{
 "cells": [
  {
   "cell_type": "markdown",
   "id": "ff1b9c4a",
   "metadata": {},
   "source": [
    "# About DataSet \n",
    "\n",
    "## Link: https://www.kaggle.com/datasets/khoongweihao/aaplcsv?resource=download\n",
    "\n",
    "The first step is to get the data and load it to memory. We will get our stock data from the Yahoo Finance website. Yahoo Finance is a rich resource of financial market data and tools to find compelling investments. To get the data from Yahoo Finance, we will be using yfinance library which offers a threaded and Pythonic way to download market data from Yahoo. Check this article to learn more about yfinance: Reliably download historical market data from with Python\n",
    "\n",
    "- Objective: Predict stock prices using historical data.\n",
    "\n",
    "- Techniques: Recurrent Neural Networks (RNN), Long Short-Term Memory (LSTM), Time Series Analysis\n",
    "\n",
    "- Skills: Deep learning, time series forecasting, model evaluation (MSE, RMSE)"
   ]
  },
  {
   "attachments": {
    "image.png": {
     "image/png": "[encoded data removed]"
    }
   },
   "cell_type": "markdown",
   "id": "f86742f3",
   "metadata": {},
   "source": [
    "## Techniques\n",
    "\n",
    "#### What Is a Recurrent Neural Network (RNN)?\n",
    "- Imagine you’re reading a book, and each sentence depends on the previous one. For example, if the previous sentence mentioned a character named “Alice,” the next sentence might continue with Alice’s actions. RNNs work similarly—they’re specialized neural networks designed for sequences of data, where each data point depends on the previous ones.\n",
    "\n",
    "- Here’s how they work:\n",
    "\n",
    "##### Memory and Feedback Loop:\n",
    "- RNNs have a concept of “memory.” This memory allows them to store information about past inputs.\n",
    "- Think of it as a feedback loop: the output from one step becomes part of the input for the next step.\n",
    "- This feedback loop allows RNNs to capture dependencies between data points in a sequence.\n",
    "\n",
    "##### Unfolding in Time:\n",
    "- Imagine an RNN as a loop that unfolds over time. Each step corresponds to a specific moment in the sequence.\n",
    "- The first diagram shows a compressed representation of an RNN, while the second diagram unrolls it into three time steps.\n",
    "- By unrolling, we create a chain of interconnected neural network layers—one for each time step.\n",
    "\n",
    "##### Math Behind RNNs:\n",
    "- RNNs use a set of weights to update their internal state at each time step.\n",
    "- The formula for updating the hidden state (memory) at time step (t) is:\n",
    "\n",
    "![image.png](attachment:image.png)\n",
    "\n",
    "- (h_t) represents the hidden state at time (t).\n",
    "- (W_{hh}) and (W_{xh}) are weight matrices.\n",
    "- (\\sigma) is an activation function (like the sigmoid or tanh function).\n",
    "- (x_t) is the input at time (t).\n",
    "\n",
    "\n",
    "##### Applications:\n",
    "- Natural Language Processing (NLP): RNNs excel at tasks like language modeling, machine translation, and sentiment analysis.\n",
    "- Time Series Prediction: They’re great for predicting stock prices, weather patterns, and other time-dependent data.\n",
    "- Speech Recognition: RNNs power voice assistants like Siri and Google’s voice search.\n",
    "- Music Generation: RNNs can compose music based on existing melodies.\n",
    "- Video Analysis: They can track objects in video frames over time.\n",
    "\n",
    "Remember, RNNs are like the storytellers of the neural network world—they remember past events and use that knowledge to predict what happens next! 📚🤖"
   ]
  },
  {
   "cell_type": "markdown",
   "id": "1bec89cc",
   "metadata": {},
   "source": [
    "#### What Is LSTM?\n",
    "Imagine you’re reading a book, and each chapter builds upon the previous one. LSTMs work similarly—they’re specialized neural networks designed to handle sequences of data with long-term dependencies. Here’s how they do it:\n",
    "\n",
    "##### Memory Cells:\n",
    "- LSTMs introduce a memory cell, which acts like a container that can hold information for an extended period.\n",
    "- Unlike traditional RNNs, which struggle with long-term dependencies, LSTMs can selectively retain relevant information over time.\n",
    "\n",
    "##### Three Magical Gates:\n",
    "- LSTMs have three gates: the input gate, the forget gate, and the output gate.\n",
    "- These gates control what information enters, exits, and stays in the memory cell.\n",
    "\n",
    "##### Math Behind LSTMs:\n",
    "The hidden state (h_t) (like short-term memory) at time step (t) is updated based on:\n",
    "\n",
    "ht​=σ(Whh​ht−1​+Wxh​xt​)\n",
    "\n",
    "- (W_{hh}) and (W_{xh}) are weight matrices.\n",
    "- (\\sigma) is an activation function (like sigmoid or tanh).\n",
    "- (x_t) is the input at time (t).\n",
    "\n",
    "##### Bidirectional LSTMs:\n",
    "- Imagine having a memory that looks both forward and backward in time.\n",
    "- Bidirectional LSTMs (Bi LSTMs) process data in both directions, capturing longer-range dependencies.\n",
    "- They’re like having two LSTMs—one reads forward, the other backward—and their outputs combine for the final result.\n",
    "\n",
    "###### Real-World Applications:\n",
    "1. Language Translation:\n",
    "- LSTMs excel at translating text from one language to another.\n",
    "- They remember context across sentences, ensuring accurate translations.\n",
    "\n",
    "2. Speech Recognition:\n",
    "- When you talk to Siri or Google Assistant, LSTMs help convert your speech into text.\n",
    "- They handle the nuances of spoken language.\n",
    "\n",
    "3. Time Series Forecasting:\n",
    "- Predicting stock prices, weather patterns, or sales data—all thanks to LSTMs.\n",
    "- They capture trends and patterns over time.\n",
    "\n",
    "4. Text Summarization:\n",
    "- LSTMs summarize lengthy articles or documents.\n",
    "- They pick out essential information while ignoring fluff.\n",
    "\n",
    "Remember, LSTMs are like the memory maestros of neural networks—they remember what matters and forget the noise! 🧠🤖"
   ]
  },
  {
   "cell_type": "markdown",
   "id": "97554f2c",
   "metadata": {},
   "source": [
    "#### What Is Time Series Analysis?\n",
    "Imagine you’re tracking something over time—like daily stock prices, monthly energy consumption, or yearly website traffic. Time series analysis (TSA) is like putting on special glasses that help you see patterns and trends within these sequential data points.\n",
    "\n",
    "##### Here’s how it works:\n",
    "1. Sequential Data:\n",
    "- TSA focuses on data collected at regular intervals (e.g., daily, weekly, yearly).\n",
    "- Unlike traditional data analysis, where observations are independent, TSA considers the temporal aspect.\n",
    "\n",
    "##### Why It Matters:\n",
    "- TSA uncovers hidden gems: trends, seasonality, and fluctuations.\n",
    "- It’s like predicting tomorrow’s weather based on historical patterns.\n",
    "\n",
    "##### Real-World Applications:\n",
    "1. Stock Price Prediction:\n",
    "- Using historical stock prices, TSA helps forecast future values.\n",
    "- Investors make informed decisions based on these predictions.\n",
    "\n",
    "2. Energy Consumption Forecasting:\n",
    "- Utility companies use TSA to predict energy demand.\n",
    "- It ensures efficient resource allocation.\n",
    "\n",
    "3. Website Traffic Prediction:\n",
    "- E-commerce sites analyze past traffic patterns.\n",
    "- TSA helps optimize server capacity and user experience.\n",
    "\n",
    "4. Sales Demand Forecasting:\n",
    "- Retailers use TSA to estimate future product demand.\n",
    "- It guides inventory management.\n",
    "\n",
    "5. Temperature Forecasting:\n",
    "- Meteorologists rely on TSA for weather predictions.\n",
    "- Historical temperature data informs their models.\n",
    "\n",
    "6. Financial Market Analysis:\n",
    "- Traders analyze time series data to make buy/sell decisions.\n",
    "- Trends and cycles matter!\n",
    "\n",
    "##### Techniques and Models:\n",
    "\n",
    "1. ARIMA Models:\n",
    "- A classic choice for time series forecasting.\n",
    "- Combines autoregression, differencing, and moving averages.\n",
    "\n",
    "2. Holt-Winters Method:\n",
    "- Handles seasonality and trends.\n",
    "- Great for short-term predictions.\n",
    "\n",
    "3. LSTM Networks:\n",
    "- Like memory wizards for sequences.\n",
    "- Used in speech recognition, stock prediction, and more.\n",
    "\n",
    "##### Metrics:\n",
    "- ACF (Auto-Correlation Function): Measures how data points relate to their past values.\n",
    "- PACF (Partial Auto-Correlation Function): Focuses on direct relationships.\n",
    "\n",
    "Remember, TSA is your time-traveling companion—it reveals insights from the past to guide your future decisions! 📊⏰"
   ]
  },
  {
   "cell_type": "code",
   "execution_count": 2,
   "id": "d94f4fa5",
   "metadata": {},
   "outputs": [],
   "source": [
    "# Uninstall numpy\n",
    "#!pip uninstall -y numpy\n",
    "\n",
    "# Reinstall numpy\n",
    "#!pip install numpy==1.22.4\n",
    "\n",
    "# Uninstall TensorFlow and Keras\n",
    "#!pip uninstall -y tensorflow keras\n",
    "\n",
    "# Reinstall TensorFlow and Keras\n",
    "#!pip install tensorflow keras\n"
   ]
  },
  {
   "cell_type": "code",
   "execution_count": 1,
   "id": "973c9d69",
   "metadata": {},
   "outputs": [
    {
     "name": "stderr",
     "output_type": "stream",
     "text": [
      "C:\\Users\\dell\\anaconda3\\lib\\site-packages\\scipy\\__init__.py:146: UserWarning: A NumPy version >=1.16.5 and <1.23.0 is required for this version of SciPy (detected version 1.26.4\n",
      "  warnings.warn(f\"A NumPy version >={np_minversion} and <{np_maxversion}\"\n"
     ]
    }
   ],
   "source": [
    "#Import Libraries\n",
    "import pandas as pd\n",
    "import numpy as np\n",
    "import matplotlib.pyplot as plt\n",
    "from sklearn.preprocessing import MinMaxScaler\n",
    "from keras.models import Sequential\n",
    "from keras.layers import Dense, LSTM, Dropout\n",
    "from keras.callbacks import EarlyStopping\n",
    "from keras.optimizers import Adam"
   ]
  },
  {
   "cell_type": "code",
   "execution_count": 3,
   "id": "38134671",
   "metadata": {},
   "outputs": [
    {
     "data": {
      "text/html": [
       "<div>\n",
       "<style scoped>\n",
       "    .dataframe tbody tr th:only-of-type {\n",
       "        vertical-align: middle;\n",
       "    }\n",
       "\n",
       "    .dataframe tbody tr th {\n",
       "        vertical-align: top;\n",
       "    }\n",
       "\n",
       "    .dataframe thead th {\n",
       "        text-align: right;\n",
       "    }\n",
       "</style>\n",
       "<table border=\"1\" class=\"dataframe\">\n",
       "  <thead>\n",
       "    <tr style=\"text-align: right;\">\n",
       "      <th></th>\n",
       "      <th>Open</th>\n",
       "      <th>High</th>\n",
       "      <th>Low</th>\n",
       "      <th>Close</th>\n",
       "      <th>Adj Close</th>\n",
       "      <th>Volume</th>\n",
       "    </tr>\n",
       "    <tr>\n",
       "      <th>Date</th>\n",
       "      <th></th>\n",
       "      <th></th>\n",
       "      <th></th>\n",
       "      <th></th>\n",
       "      <th></th>\n",
       "      <th></th>\n",
       "    </tr>\n",
       "  </thead>\n",
       "  <tbody>\n",
       "    <tr>\n",
       "      <th>2014-09-29</th>\n",
       "      <td>100.589996</td>\n",
       "      <td>100.690002</td>\n",
       "      <td>98.040001</td>\n",
       "      <td>99.620003</td>\n",
       "      <td>93.514290</td>\n",
       "      <td>142718700</td>\n",
       "    </tr>\n",
       "    <tr>\n",
       "      <th>2014-10-06</th>\n",
       "      <td>99.949997</td>\n",
       "      <td>102.379997</td>\n",
       "      <td>98.309998</td>\n",
       "      <td>100.730003</td>\n",
       "      <td>94.556244</td>\n",
       "      <td>280258200</td>\n",
       "    </tr>\n",
       "    <tr>\n",
       "      <th>2014-10-13</th>\n",
       "      <td>101.330002</td>\n",
       "      <td>101.779999</td>\n",
       "      <td>95.180000</td>\n",
       "      <td>97.669998</td>\n",
       "      <td>91.683792</td>\n",
       "      <td>358539800</td>\n",
       "    </tr>\n",
       "    <tr>\n",
       "      <th>2014-10-20</th>\n",
       "      <td>98.320000</td>\n",
       "      <td>105.489998</td>\n",
       "      <td>98.220001</td>\n",
       "      <td>105.220001</td>\n",
       "      <td>98.771042</td>\n",
       "      <td>358532900</td>\n",
       "    </tr>\n",
       "    <tr>\n",
       "      <th>2014-10-27</th>\n",
       "      <td>104.849998</td>\n",
       "      <td>108.040001</td>\n",
       "      <td>104.699997</td>\n",
       "      <td>108.000000</td>\n",
       "      <td>101.380676</td>\n",
       "      <td>220230600</td>\n",
       "    </tr>\n",
       "  </tbody>\n",
       "</table>\n",
       "</div>"
      ],
      "text/plain": [
       "                  Open        High         Low       Close   Adj Close  \\\n",
       "Date                                                                     \n",
       "2014-09-29  100.589996  100.690002   98.040001   99.620003   93.514290   \n",
       "2014-10-06   99.949997  102.379997   98.309998  100.730003   94.556244   \n",
       "2014-10-13  101.330002  101.779999   95.180000   97.669998   91.683792   \n",
       "2014-10-20   98.320000  105.489998   98.220001  105.220001   98.771042   \n",
       "2014-10-27  104.849998  108.040001  104.699997  108.000000  101.380676   \n",
       "\n",
       "               Volume  \n",
       "Date                   \n",
       "2014-09-29  142718700  \n",
       "2014-10-06  280258200  \n",
       "2014-10-13  358539800  \n",
       "2014-10-20  358532900  \n",
       "2014-10-27  220230600  "
      ]
     },
     "execution_count": 3,
     "metadata": {},
     "output_type": "execute_result"
    }
   ],
   "source": [
    "# Load dataset\n",
    "data = pd.read_csv(\"AAPL.csv\")\n",
    "data['Date'] = pd.to_datetime(data['Date'])\n",
    "data.set_index('Date', inplace=True)\n",
    "data.head()"
   ]
  },
  {
   "cell_type": "markdown",
   "id": "c4ef6bf0",
   "metadata": {},
   "source": [
    "- Set the 'Date' column as the index.\n",
    "- Normalize the 'Close' prices using MinMaxScaler to scale the data between 0 and 1."
   ]
  },
  {
   "cell_type": "code",
   "execution_count": 4,
   "id": "70c92d3a",
   "metadata": {},
   "outputs": [
    {
     "data": {
      "text/plain": [
       "(184, 6)"
      ]
     },
     "execution_count": 4,
     "metadata": {},
     "output_type": "execute_result"
    }
   ],
   "source": [
    "data.shape"
   ]
  },
  {
   "cell_type": "code",
   "execution_count": 5,
   "id": "b06cd4a3",
   "metadata": {},
   "outputs": [
    {
     "name": "stdout",
     "output_type": "stream",
     "text": [
      "<class 'pandas.core.frame.DataFrame'>\n",
      "DatetimeIndex: 184 entries, 2014-09-29 to 2018-03-29\n",
      "Data columns (total 6 columns):\n",
      " #   Column     Non-Null Count  Dtype  \n",
      "---  ------     --------------  -----  \n",
      " 0   Open       184 non-null    float64\n",
      " 1   High       184 non-null    float64\n",
      " 2   Low        184 non-null    float64\n",
      " 3   Close      184 non-null    float64\n",
      " 4   Adj Close  184 non-null    float64\n",
      " 5   Volume     184 non-null    int64  \n",
      "dtypes: float64(5), int64(1)\n",
      "memory usage: 10.1 KB\n"
     ]
    }
   ],
   "source": [
    "# General info\n",
    "data.info()"
   ]
  },
  {
   "cell_type": "code",
   "execution_count": 6,
   "id": "48bd0dc3",
   "metadata": {},
   "outputs": [],
   "source": [
    "# Data preprocessing\n",
    "# Select features\n",
    "features = data[['Open', 'High', 'Low', 'Close', 'Volume']]\n",
    "\n",
    "# Scale data\n",
    "scaler = MinMaxScaler(feature_range=(0, 1))\n",
    "scaled_data = scaler.fit_transform(features)"
   ]
  },
  {
   "cell_type": "markdown",
   "id": "e596ba1c",
   "metadata": {},
   "source": [
    "- MinMaxScaler: This scaler transforms the data such that all values are within the range [0, 1]. This helps the LSTM model to learn more effectively."
   ]
  },
  {
   "cell_type": "code",
   "execution_count": 9,
   "id": "2c5bdd32",
   "metadata": {},
   "outputs": [
    {
     "data": {
      "text/plain": [
       "array([[0.0932878 , 0.0771203 , 0.09722065, 0.10172151, 0.22581864],\n",
       "       [0.08600681, 0.09595453, 0.10028358, 0.11412929, 0.52354607],\n",
       "       [0.10170653, 0.08926782, 0.06477594, 0.079924  , 0.69299978],\n",
       "       [0.06746304, 0.13061407, 0.09926263, 0.1643193 , 0.69298485],\n",
       "       [0.14175199, 0.15903269, 0.17277365, 0.19539463, 0.39360621],\n",
       "       [0.18009105, 0.18421939, 0.20703348, 0.20668461, 0.34971171],\n",
       "       [0.18919225, 0.22757165, 0.21474762, 0.26447578, 0.36099786],\n",
       "       [0.24891922, 0.26524019, 0.2703347 , 0.29007382, 0.42214542],\n",
       "       [0.27827077, 0.2895353 , 0.30799777, 0.31757214, 0.31057667],\n",
       "       [0.30056884, 0.28396302, 0.2473057 , 0.27364189, 0.4939583 ],\n",
       "       [0.24698522, 0.23492701, 0.22552466, 0.21473291, 0.47940804],\n",
       "       [0.20830488, 0.21698429, 0.19047081, 0.23764814, 0.62874549],\n",
       "       [0.22491475, 0.2312493 , 0.25524676, 0.2623519 , 0.17533381],\n",
       "       [0.24345851, 0.23403543, 0.20283605, 0.21026163, 0.24610094],\n",
       "       [0.18088741, 0.21709576, 0.17197955, 0.24021915, 0.53002774],\n",
       "       [0.22992037, 0.21208075, 0.1784458 , 0.17292646, 0.57408848],\n",
       "       [0.1757679 , 0.22266803, 0.19319342, 0.251062  , 0.34707969],\n",
       "       [0.24288965, 0.29232143, 0.22189449, 0.2977868 , 0.92527499],\n",
       "       [0.2919227 , 0.29800517, 0.30187184, 0.31757214, 0.50297977],\n",
       "       [0.29761099, 0.37568266, 0.32853092, 0.40867433, 0.57322218],\n",
       "       [0.39931742, 0.3981946 , 0.42484401, 0.4357255 , 0.3375939 ],\n",
       "       [0.4281002 , 0.4438873 , 0.42132731, 0.42410027, 0.71394598],\n",
       "       [0.4193402 , 0.40688734, 0.41168467, 0.40330876, 0.45141996],\n",
       "       [0.40466442, 0.3989748 , 0.36483265, 0.36966241, 0.62367476],\n",
       "       [0.35824801, 0.39540847, 0.37889965, 0.39548408, 0.4941384 ],\n",
       "       [0.39510815, 0.38192349, 0.37583663, 0.36586188, 0.37000202],\n",
       "       [0.3601821 , 0.3646495 , 0.38150878, 0.38900071, 0.2676251 ],\n",
       "       [0.36496023, 0.38281508, 0.39546232, 0.40889785, 0.3112988 ],\n",
       "       [0.40932877, 0.38783026, 0.39693704, 0.38262915, 0.28744113],\n",
       "       [0.37747444, 0.41078799, 0.40499149, 0.44444447, 0.36592032],\n",
       "       [0.45415247, 0.45436303, 0.39829839, 0.42957747, 0.82814545],\n",
       "       [0.42218434, 0.41011934, 0.38445834, 0.41471056, 0.50543602],\n",
       "       [0.39817978, 0.39808321, 0.401021  , 0.42756548, 0.36778366],\n",
       "       [0.40944264, 0.43686618, 0.44117984, 0.46970709, 0.38725681],\n",
       "       [0.45745176, 0.43619754, 0.44980144, 0.44444447, 0.345806  ],\n",
       "       [0.43105805, 0.41925778, 0.44117984, 0.42622398, 0.28648997],\n",
       "       [0.41535833, 0.40577282, 0.41009648, 0.40968032, 0.39335511],\n",
       "       [0.383504  , 0.38493257, 0.41111742, 0.40330876, 0.34662122],\n",
       "       [0.39931742, 0.401538  , 0.42019289, 0.40498551, 0.34027614],\n",
       "       [0.37622301, 0.36966459, 0.39716397, 0.40152029, 0.24370573],\n",
       "       [0.37030723, 0.36175198, 0.33749293, 0.36619721, 0.51204453],\n",
       "       [0.37133108, 0.39953189, 0.39534885, 0.43706683, 0.32653244],\n",
       "       [0.4389079 , 0.43686618, 0.36891661, 0.3798346 , 0.66210823],\n",
       "       [0.34926051, 0.33589665, 0.35666483, 0.34406446, 0.33162742],\n",
       "       [0.33117182, 0.32096291, 0.25672148, 0.27945451, 0.75027864],\n",
       "       [0.27463028, 0.29220996, 0.22870105, 0.28437293, 0.66307844],\n",
       "       [0.26905579, 0.26613178, 0.18355079, 0.17035552, 0.60885565],\n",
       "       [0.02821393, 0.21776441, 0.02870107, 0.25452721, 1.        ],\n",
       "       [0.22343574, 0.23136076, 0.20294953, 0.20959088, 0.56237156],\n",
       "       [0.22025031, 0.22779451, 0.23028925, 0.26481111, 0.46381096],\n",
       "       [0.27519914, 0.25766189, 0.25411235, 0.25631567, 0.51709059],\n",
       "       [0.24209329, 0.25543301, 0.2597845 , 0.2704002 , 0.44223701],\n",
       "       [0.24414107, 0.23180656, 0.20238228, 0.22199866, 0.5963614 ],\n",
       "       [0.1989761 , 0.20628554, 0.21259216, 0.24144876, 0.4835313 ],\n",
       "       [0.23139938, 0.21152349, 0.22790696, 0.2293763 , 0.3170947 ],\n",
       "       [0.20944261, 0.28374017, 0.23414636, 0.31924889, 0.39603843],\n",
       "       [0.29226399, 0.30591779, 0.27816221, 0.3239437 , 0.61468727],\n",
       "       [0.32320826, 0.33489359, 0.34191721, 0.34138164, 0.33943062],\n",
       "       [0.32502846, 0.31249304, 0.25865   , 0.24390788, 0.38565041],\n",
       "       [0.21604095, 0.29142985, 0.24424277, 0.3217081 , 0.32812629],\n",
       "       [0.30580205, 0.28931244, 0.31366992, 0.30505255, 0.15438826],\n",
       "       [0.29124005, 0.2857462 , 0.28077143, 0.31868994, 0.36445938],\n",
       "       [0.30250291, 0.29076121, 0.26522971, 0.2532976 , 0.32545141],\n",
       "       [0.22514223, 0.21208075, 0.18536583, 0.1733736 , 0.59898087],\n",
       "       [0.16939705, 0.16973144, 0.18264322, 0.19572996, 0.19094388],\n",
       "       [0.17292375, 0.1745236 , 0.174135  , 0.16476643, 0.18418297],\n",
       "       [0.11626852, 0.13462611, 0.07895632, 0.0719875 , 0.66107179],\n",
       "       [0.07485782, 0.08269257, 0.06681793, 0.07388777, 0.57388565],\n",
       "       [0.06848698, 0.08570157, 0.04480995, 0.12184218, 0.44372586],\n",
       "       [0.10386802, 0.08648169, 0.03312533, 0.07623518, 0.74018241],\n",
       "       [0.04641641, 0.03967463, 0.04787296, 0.03912363, 0.38694812],\n",
       "       [0.00841864, 0.02875294, 0.03539416, 0.0387883 , 0.41718313],\n",
       "       [0.02992034, 0.05706009, 0.0583097 , 0.0617036 , 0.28122896],\n",
       "       [0.04459612, 0.04736431, 0.04367554, 0.07142865, 0.26117677],\n",
       "       [0.05085327, 0.11122259, 0.08145209, 0.13961553, 0.3537183 ],\n",
       "       [0.11376565, 0.10096963, 0.12115714, 0.13123189, 0.25351687],\n",
       "       [0.10830496, 0.14187008, 0.13964831, 0.17214399, 0.31100809],\n",
       "       [0.1540387 , 0.15468633, 0.17492909, 0.16934944, 0.17617175],\n",
       "       [0.15483506, 0.18555667, 0.17481562, 0.21763918, 0.23717514],\n",
       "       [0.20511946, 0.20528256, 0.21157122, 0.20277227, 0.23232109],\n",
       "       [0.18862347, 0.20751144, 0.21769716, 0.21607424, 0.26822731],\n",
       "       [0.18771332, 0.16917418, 0.17186617, 0.16946125, 0.3261441 ],\n",
       "       [0.1434585 , 0.13239724, 0.03448668, 0.03599375, 0.67326731],\n",
       "       [0.017975  , 0.02373794, 0.0269994 , 0.02459204, 0.40472178],\n",
       "       [0.00693972, 0.        , 0.        , 0.        , 0.38455617],\n",
       "       [0.        , 0.01849998, 0.02473059, 0.05253749, 0.37732054],\n",
       "       [0.03959049, 0.0775661 , 0.07033463, 0.10988152, 0.35823055],\n",
       "       [0.08202502, 0.07388838, 0.08122514, 0.08271855, 0.21935992],\n",
       "       [0.06370875, 0.09049372, 0.09166197, 0.09289073, 0.18717   ],\n",
       "       [0.07167239, 0.05962338, 0.06613729, 0.0537671 , 0.33191749],\n",
       "       [0.04106941, 0.034771  , 0.03607489, 0.03219322, 0.36437972],\n",
       "       [0.00693972, 0.03009031, 0.02302892, 0.06002685, 0.31588985],\n",
       "       [0.0341297 , 0.034771  , 0.05558709, 0.06885762, 0.1608511 ],\n",
       "       [0.04960184, 0.0616294 , 0.08235964, 0.09233179, 0.22623404],\n",
       "       [0.0717861 , 0.08057509, 0.10028358, 0.09099047, 0.23631036],\n",
       "       [0.06666668, 0.12013826, 0.07884285, 0.15302931, 0.47227113],\n",
       "       [0.13674637, 0.15468633, 0.16483267, 0.18958201, 0.28519658],\n",
       "       [0.17212741, 0.16906279, 0.20068071, 0.1974067 , 0.18639375],\n",
       "       [0.1791809 , 0.18343927, 0.21111744, 0.21059696, 0.20342017],\n",
       "       [0.18737205, 0.1732977 , 0.19103798, 0.18354578, 0.1844449 ],\n",
       "       [0.16188857, 0.1585869 , 0.18184912, 0.19237655, 0.20478218],\n",
       "       [0.17645056, 0.16705678, 0.1549631 , 0.14095685, 0.28228402],\n",
       "       [0.11672359, 0.24919201, 0.14815654, 0.27274761, 0.75726533],\n",
       "       [0.25938572, 0.24974927, 0.25048217, 0.24804384, 0.3521855 ],\n",
       "       [0.21899888, 0.23258666, 0.25048217, 0.25184447, 0.25539949],\n",
       "       [0.2311718 , 0.23169509, 0.25876347, 0.26313438, 0.18969184],\n",
       "       [0.25745164, 0.2777221 , 0.28644358, 0.30304047, 0.36866447],\n",
       "       [0.28373157, 0.27237269, 0.27600685, 0.29152695, 0.16696737],\n",
       "       [0.28111491, 0.27404439, 0.27044808, 0.25933383, 0.3719487 ],\n",
       "       [0.24186581, 0.22801744, 0.21145776, 0.20478425, 0.25531831],\n",
       "       [0.20125147, 0.20004462, 0.18559276, 0.20020124, 0.36500856],\n",
       "       [0.17428898, 0.18689405, 0.16574024, 0.21842165, 0.34622335],\n",
       "       [0.20170654, 0.20784576, 0.23301194, 0.23775994, 0.12064541],\n",
       "       [0.21660981, 0.20840302, 0.21985251, 0.21663319, 0.25348592],\n",
       "       [0.20034132, 0.23325531, 0.21304595, 0.26190476, 0.24588707],\n",
       "       [0.23777023, 0.25587881, 0.26114576, 0.28448473, 0.3390241 ],\n",
       "       [0.26632543, 0.26446007, 0.29631307, 0.29063269, 0.16203885],\n",
       "       [0.27451649, 0.2702552 , 0.29449802, 0.282808  , 0.10050577],\n",
       "       [0.26632543, 0.27181552, 0.28689736, 0.30617044, 0.14167105],\n",
       "       [0.29078498, 0.29154131, 0.32297224, 0.31880175, 0.21735912],\n",
       "       [0.29522183, 0.2978937 , 0.32614863, 0.32953279, 0.16873482],\n",
       "       [0.31410697, 0.31951414, 0.34066933, 0.35133021, 0.18646627],\n",
       "       [0.32468718, 0.40922776, 0.35337498, 0.43103069, 0.45757347],\n",
       "       [0.41797507, 0.43653186, 0.44730568, 0.46501228, 0.21224725],\n",
       "       [0.46291247, 0.47364321, 0.4909813 , 0.5052538 , 0.2127198 ],\n",
       "       [0.49874858, 0.48712802, 0.51968237, 0.51576132, 0.10717359],\n",
       "       [0.50910129, 0.51833278, 0.53102667, 0.55063718, 0.19281892],\n",
       "       [0.53447098, 0.51498938, 0.53976183, 0.54348315, 0.13263724],\n",
       "       [0.52855529, 0.5265798 , 0.55984129, 0.55298467, 0.17997291],\n",
       "       [0.54618883, 0.54641708, 0.57016447, 0.56025042, 0.19758119],\n",
       "       [0.53469856, 0.56536277, 0.55757229, 0.59400858, 0.19181213],\n",
       "       [0.58384541, 0.57606161, 0.60782763, 0.59043147, 0.14507109],\n",
       "       [0.58259398, 0.55845321, 0.57390812, 0.56483352, 0.10625751],\n",
       "       [0.55847554, 0.54775437, 0.57833238, 0.57847091, 0.11007338],\n",
       "       [0.58145625, 0.56982052, 0.60930228, 0.59389669, 0.11419751],\n",
       "       [0.59965882, 0.61529028, 0.62166769, 0.65325297, 0.29645827],\n",
       "       [0.64436864, 0.69820572, 0.6756665 , 0.73306517, 0.29238631],\n",
       "       [0.72377702, 0.70076892, 0.68338072, 0.69908341, 0.25750116],\n",
       "       [0.70091018, 0.68126596, 0.71695974, 0.70523144, 0.13984082],\n",
       "       [0.69431175, 0.6873955 , 0.71185484, 0.72579925, 0.10900057],\n",
       "       [0.70477817, 0.69330209, 0.64152021, 0.65347641, 0.26140796],\n",
       "       [0.60693981, 0.5987964 , 0.59818491, 0.57847091, 0.39425518],\n",
       "       [0.58327655, 0.5950073 , 0.61474767, 0.62329536, 0.20532854],\n",
       "       [0.62320822, 0.60748914, 0.59909247, 0.59803273, 0.19192318],\n",
       "       [0.59715597, 0.57427844, 0.60056729, 0.59982111, 0.08823166],\n",
       "       [0.58839597, 0.61919094, 0.61145772, 0.65414707, 0.15734953],\n",
       "       [0.64197966, 0.64604933, 0.67044821, 0.66789635, 0.14651147],\n",
       "       [0.66200235, 0.67112455, 0.65604091, 0.65928911, 0.14594107],\n",
       "       [0.6542662 , 0.73531707, 0.6654567 , 0.73630676, 0.29095309],\n",
       "       [0.73572245, 0.75849775, 0.73919465, 0.74849094, 0.24432742],\n",
       "       [0.76143359, 0.76607596, 0.76290419, 0.74871455, 0.20830604],\n",
       "       [0.74072816, 0.74635023, 0.74463987, 0.77509507, 0.16077576],\n",
       "       [0.77076228, 0.79315728, 0.79931931, 0.82193167, 0.18990679],\n",
       "       [0.81183169, 0.78546752, 0.78343735, 0.76134595, 0.1369406 ],\n",
       "       [0.77485786, 0.78223568, 0.77640394, 0.77531868, 0.39436818],\n",
       "       [0.77042101, 0.74367548, 0.69302327, 0.68600495, 0.31991635],\n",
       "       [0.65529022, 0.67926002, 0.67714132, 0.71093225, 0.25209361],\n",
       "       [0.70386803, 0.68784137, 0.71457754, 0.72412259, 0.11989189],\n",
       "       [0.72150174, 0.71581412, 0.74452648, 0.74301374, 0.09287791],\n",
       "       [0.74527872, 0.74779891, 0.74361892, 0.73474183, 0.18973925],\n",
       "       [0.73378845, 0.77822363, 0.74645499, 0.81075349, 0.18184254],\n",
       "       [0.8134244 , 0.89702435, 0.84231429, 0.91638726, 0.38266771],\n",
       "       [0.90989763, 0.91909066, 0.9330687 , 0.94064388, 0.21652507],\n",
       "       [0.9227532 , 0.8996991 , 0.89517878, 0.89011847, 0.16897661],\n",
       "       [0.88623435, 0.91084365, 0.90856497, 0.94399737, 0.09223825],\n",
       "       [0.94038691, 0.90616296, 0.88133872, 0.90017893, 0.28508683],\n",
       "       [0.91114906, 0.8787473 , 0.87339775, 0.8813995 , 0.21448097],\n",
       "       [0.87383394, 0.89602138, 0.89982981, 0.93281919, 0.21808753],\n",
       "       [0.93845292, 0.92978934, 0.95042546, 0.94444443, 0.17151512],\n",
       "       [0.89203651, 0.87016612, 0.90470795, 0.87983456, 0.12720738],\n",
       "       [0.88475552, 0.9093948 , 0.90516165, 0.94433271, 0.13587602],\n",
       "       [0.93242335, 0.93157251, 0.94758939, 0.96769506, 0.15542102],\n",
       "       [0.97281002, 0.96210862, 0.97107217, 0.98300929, 0.19302933],\n",
       "       [0.96598418, 0.95475317, 0.91423712, 0.9053208 , 0.3315759 ],\n",
       "       [0.88475552, 0.85133182, 0.80124798, 0.78224909, 0.48617069],\n",
       "       [0.75893073, 0.7813441 , 0.68939317, 0.73653038, 0.60449558],\n",
       "       [0.75210473, 0.90326543, 0.77186612, 0.91560471, 0.40465966],\n",
       "       [0.90625722, 0.91251526, 0.92501418, 0.9499218 , 0.21172167],\n",
       "       [0.95517648, 0.96790366, 0.94134999, 0.95785838, 0.35442095],\n",
       "       [0.94220721, 0.96099409, 0.9619967 , 1.        , 0.2196147 ],\n",
       "       [1.        , 1.        , 1.        , 0.97809086, 0.25330733],\n",
       "       [0.96621176, 0.93279841, 0.85615435, 0.83188024, 0.29065479],\n",
       "       [0.86097853, 0.90694299, 0.85899043, 0.86362623, 0.25867766],\n",
       "       [0.85796359, 0.8690516 , 0.87838909, 0.86362623, 0.        ]])"
      ]
     },
     "execution_count": 9,
     "metadata": {},
     "output_type": "execute_result"
    }
   ],
   "source": [
    "scaled_data.dtype\n",
    "scaled_data # array"
   ]
  },
  {
   "cell_type": "code",
   "execution_count": 11,
   "id": "9cfa407a",
   "metadata": {},
   "outputs": [],
   "source": [
    "# Prepare training data\n",
    "# Create sequences\n",
    "def create_sequences(data, seq_length):\n",
    "    xs, ys = [], []\n",
    "    for i in range(len(data) - seq_length):\n",
    "        x = data[i:i+seq_length]   # one sequence of seq_length time step\n",
    "        y = data[i+seq_length][3]  # Predicting 'Close' price (4th column in the data)\n",
    "        xs.append(x)               # This list will store the input sequences.\n",
    "        ys.append(y)               # This list will store the corresponding target values ('Close' price)\n",
    "    return np.array(xs), np.array(ys)\n",
    "\n",
    "seq_length = 60\n",
    "X, y = create_sequences(scaled_data, seq_length)"
   ]
  },
  {
   "cell_type": "markdown",
   "id": "c1ddf0cf",
   "metadata": {},
   "source": [
    "- data: The input data, which is a 2D array where rows represent time steps and columns represent different features (e.g., Open, High, Low, Close, Volume).\n",
    "- seq_length: The number of time steps in each input sequence. Here, it's set to 60.\n",
    "- xs: This list will store the input sequences.\n",
    "- ys: This list will store the corresponding target values (the values we want to predict).\n",
    "- The loop runs from 0 to len(data) - seq_length, ensuring that each sequence has seq_length number of data points.\n",
    "- x: This is a slice of the data from index i to i + seq_length. It represents one sequence of seq_length time steps.\n",
    "- y: This is the 'Close' price at the index i + seq_length. Here, [3] is used to select the 'Close' price from the feature columns (assuming 'Close' is the fourth column in the data).\n",
    "- seq_length = 60: We define the sequence length as 60 time steps (days).\n",
    "- X, y = create_sequences(scaled_data, seq_length): We call the function with our scaled data and the sequence length. X will contain all the input sequences, and y will contain the corresponding 'Close' prices to predict."
   ]
  },
  {
   "cell_type": "code",
   "execution_count": 12,
   "id": "2417322d",
   "metadata": {},
   "outputs": [],
   "source": [
    "# Split data into training and test sets\n",
    "split = int(0.8 * len(X))\n",
    "X_train, X_test = X[:split], X[split:]\n",
    "y_train, y_test = y[:split], y[split:]"
   ]
  },
  {
   "cell_type": "markdown",
   "id": "2fcb37bd",
   "metadata": {},
   "source": [
    "- len(X): This gives the total number of sequences in the dataset.\n",
    "- 0.8 * len(X): Multiplies the total number of sequences by 0.8 to get 80% of the data. This value is used to split the data into training (80%) and testing (20%) sets.\n",
    "- int(...): Converts the calculated value to an integer (since indices must be whole numbers). This integer represents the index at which the data will be split."
   ]
  },
  {
   "cell_type": "markdown",
   "id": "5bce8bde",
   "metadata": {},
   "source": [
    "## Step 2: Building the Model\n",
    "\n",
    "Define the LSTM Model:"
   ]
  },
  {
   "cell_type": "code",
   "execution_count": 9,
   "id": "a20cb903",
   "metadata": {},
   "outputs": [
    {
     "name": "stderr",
     "output_type": "stream",
     "text": [
      "C:\\Users\\dell\\anaconda3\\lib\\site-packages\\keras\\src\\layers\\rnn\\rnn.py:204: UserWarning: Do not pass an `input_shape`/`input_dim` argument to a layer. When using Sequential models, prefer using an `Input(shape)` object as the first layer in the model instead.\n",
      "  super().__init__(**kwargs)\n"
     ]
    }
   ],
   "source": [
    "''' \n",
    "from tensorflow.keras.models import Sequential\n",
    "from tensorflow.keras.layers import LSTM, Dense, Dropout\n",
    "\n",
    "model = Sequential()\n",
    "model.add(LSTM(units=50, return_sequences=True, input_shape=(X_train.shape[1], X_train.shape[2])))\n",
    "model.add(Dropout(0.2))\n",
    "model.add(LSTM(units=50, return_sequences=False))\n",
    "model.add(Dropout(0.2))\n",
    "model.add(Dense(units=1))\n",
    "\n",
    "model.compile(optimizer='adam', loss='mean_squared_error')\n",
    "'''"
   ]
  },
  {
   "cell_type": "markdown",
   "id": "d1a59205",
   "metadata": {},
   "source": [
    "- LSTM Layers: Capture the temporal dependencies in the sequential data.\n",
    "- Dropout Layers: Prevent overfitting by randomly dropping units during training.\n",
    "- Dense Layer: Outputs the final prediction.\n",
    "- Adam Optimizer: Efficiently adjusts the learning rate during training.\n",
    "- MSE Loss: Measures the accuracy of the predictions for regression tasks."
   ]
  },
  {
   "cell_type": "markdown",
   "id": "b5aa4585",
   "metadata": {},
   "source": [
    "- Input Layer: The Input layer explicitly defines the input shape of the model.\n",
    "- LSTM Layers: The LSTM layers no longer need the input_shape argument because the input shape is defined by the Input layer."
   ]
  },
  {
   "cell_type": "code",
   "execution_count": 13,
   "id": "582ac3c5",
   "metadata": {},
   "outputs": [],
   "source": [
    "from tensorflow.keras.models import Sequential\n",
    "from tensorflow.keras.layers import LSTM, Dense, Dropout, Input\n",
    "\n",
    "model = Sequential()                                          # Creates an empty Sequential model\n",
    "model.add(Input(shape=(X_train.shape[1], X_train.shape[2])))\n",
    "model.add(LSTM(units=50, return_sequences=True))\n",
    "model.add(Dropout(0.2))\n",
    "model.add(LSTM(units=50, return_sequences=False))\n",
    "model.add(Dropout(0.2))\n",
    "model.add(Dense(units=1))\n",
    "\n",
    "model.compile(optimizer='adam', loss='mean_squared_error')"
   ]
  },
  {
   "cell_type": "markdown",
   "id": "451a272e",
   "metadata": {},
   "source": [
    "**Imports**: Here, we're importing necessary components from TensorFlow's Keras API:\n",
    "- Sequential: A linear stack of layers.\n",
    "- LSTM: Long Short-Term Memory layer, which is a type of recurrent neural network (RNN) layer.\n",
    "- Dense: A fully connected neural network layer.\n",
    "- Dropout: A regularization layer that randomly sets a fraction of input units to 0 at each update during training to help prevent overfitting.\n",
    "- Input: Used to specify the shape of the input data.\n",
    "\n",
    "**Input Layer**: Adds an input layer to the model, specifying the shape of the input data. \n",
    "- X_train.shape[1] is the number of time steps (sequence length).\n",
    "- X_train.shape[2] is the number of features at each time step.\n",
    "\n",
    "**First LSTM Layer**: Adds an LSTM layer with 50 units. \n",
    "- return_sequences=True parameter indicates that the layer should return the full sequence of outputs for each input sequence, not just the last output in the sequence. This is necessary because the next LSTM layer needs a sequence as input.\n",
    "\n",
    "**Dropout Layer**: Adds a Dropout layer with a dropout rate of 0.2 (20%). \n",
    "- helps prevent overfitting by randomly setting 20% of the input units to 0 at each update during training.\n",
    "\n",
    "**Second LSTM Layer**: Adds another LSTM layer with 50 units. \n",
    "- return_sequences=False (default) indicates that this layer should return only the last output in the output sequence, not the full sequence. This is typical for the final LSTM layer in a Sequential model when its output is passed to a Dense layer.\n",
    "\n",
    "**Dense Layer**: Adds a Dense (fully connected) layer with 1 unit. \n",
    "- typically used for the output layer in regression problems, as it produces a single continuous value. Outputs the final prediction.\n",
    "\n",
    "**Compile the Model**: Configures the model for training.\n",
    "- optimizer='adam': Uses the Adam optimization algorithm, which is popular for its efficiency and good performance.\n",
    "- loss='mean_squared_error': Specifies the loss function to be minimized during training. Mean Squared Error (MSE) is commonly used for regression problems."
   ]
  },
  {
   "cell_type": "markdown",
   "id": "c45f3701",
   "metadata": {},
   "source": [
    "## Step 3: Training the Model"
   ]
  },
  {
   "cell_type": "code",
   "execution_count": 14,
   "id": "ba0e646c",
   "metadata": {},
   "outputs": [
    {
     "name": "stdout",
     "output_type": "stream",
     "text": [
      "Epoch 1/20\n",
      "\u001b[1m3/3\u001b[0m \u001b[32m━━━━━━━━━━━━━━━━━━━━\u001b[0m\u001b[37m\u001b[0m \u001b[1m3s\u001b[0m 216ms/step - loss: 0.1025 - val_loss: 0.1457\n",
      "Epoch 2/20\n",
      "\u001b[1m3/3\u001b[0m \u001b[32m━━━━━━━━━━━━━━━━━━━━\u001b[0m\u001b[37m\u001b[0m \u001b[1m0s\u001b[0m 45ms/step - loss: 0.0286 - val_loss: 0.0030\n",
      "Epoch 3/20\n",
      "\u001b[1m3/3\u001b[0m \u001b[32m━━━━━━━━━━━━━━━━━━━━\u001b[0m\u001b[37m\u001b[0m \u001b[1m0s\u001b[0m 44ms/step - loss: 0.0319 - val_loss: 0.0128\n",
      "Epoch 4/20\n",
      "\u001b[1m3/3\u001b[0m \u001b[32m━━━━━━━━━━━━━━━━━━━━\u001b[0m\u001b[37m\u001b[0m \u001b[1m0s\u001b[0m 43ms/step - loss: 0.0289 - val_loss: 0.0052\n",
      "Epoch 5/20\n",
      "\u001b[1m3/3\u001b[0m \u001b[32m━━━━━━━━━━━━━━━━━━━━\u001b[0m\u001b[37m\u001b[0m \u001b[1m0s\u001b[0m 50ms/step - loss: 0.0157 - val_loss: 0.0203\n",
      "Epoch 6/20\n",
      "\u001b[1m3/3\u001b[0m \u001b[32m━━━━━━━━━━━━━━━━━━━━\u001b[0m\u001b[37m\u001b[0m \u001b[1m0s\u001b[0m 53ms/step - loss: 0.0123 - val_loss: 0.0185\n",
      "Epoch 7/20\n",
      "\u001b[1m3/3\u001b[0m \u001b[32m━━━━━━━━━━━━━━━━━━━━\u001b[0m\u001b[37m\u001b[0m \u001b[1m0s\u001b[0m 52ms/step - loss: 0.0145 - val_loss: 0.0047\n",
      "Epoch 8/20\n",
      "\u001b[1m3/3\u001b[0m \u001b[32m━━━━━━━━━━━━━━━━━━━━\u001b[0m\u001b[37m\u001b[0m \u001b[1m0s\u001b[0m 48ms/step - loss: 0.0120 - val_loss: 0.0090\n",
      "Epoch 9/20\n",
      "\u001b[1m3/3\u001b[0m \u001b[32m━━━━━━━━━━━━━━━━━━━━\u001b[0m\u001b[37m\u001b[0m \u001b[1m0s\u001b[0m 45ms/step - loss: 0.0103 - val_loss: 0.0174\n",
      "Epoch 10/20\n",
      "\u001b[1m3/3\u001b[0m \u001b[32m━━━━━━━━━━━━━━━━━━━━\u001b[0m\u001b[37m\u001b[0m \u001b[1m0s\u001b[0m 49ms/step - loss: 0.0094 - val_loss: 0.0084\n",
      "Epoch 11/20\n",
      "\u001b[1m3/3\u001b[0m \u001b[32m━━━━━━━━━━━━━━━━━━━━\u001b[0m\u001b[37m\u001b[0m \u001b[1m0s\u001b[0m 49ms/step - loss: 0.0095 - val_loss: 0.0037\n",
      "Epoch 12/20\n",
      "\u001b[1m3/3\u001b[0m \u001b[32m━━━━━━━━━━━━━━━━━━━━\u001b[0m\u001b[37m\u001b[0m \u001b[1m0s\u001b[0m 45ms/step - loss: 0.0094 - val_loss: 0.0034\n",
      "Epoch 13/20\n",
      "\u001b[1m3/3\u001b[0m \u001b[32m━━━━━━━━━━━━━━━━━━━━\u001b[0m\u001b[37m\u001b[0m \u001b[1m0s\u001b[0m 37ms/step - loss: 0.0086 - val_loss: 0.0037\n",
      "Epoch 14/20\n",
      "\u001b[1m3/3\u001b[0m \u001b[32m━━━━━━━━━━━━━━━━━━━━\u001b[0m\u001b[37m\u001b[0m \u001b[1m0s\u001b[0m 46ms/step - loss: 0.0089 - val_loss: 0.0045\n",
      "Epoch 15/20\n",
      "\u001b[1m3/3\u001b[0m \u001b[32m━━━━━━━━━━━━━━━━━━━━\u001b[0m\u001b[37m\u001b[0m \u001b[1m0s\u001b[0m 47ms/step - loss: 0.0090 - val_loss: 0.0042\n",
      "Epoch 16/20\n",
      "\u001b[1m3/3\u001b[0m \u001b[32m━━━━━━━━━━━━━━━━━━━━\u001b[0m\u001b[37m\u001b[0m \u001b[1m0s\u001b[0m 44ms/step - loss: 0.0083 - val_loss: 0.0033\n",
      "Epoch 17/20\n",
      "\u001b[1m3/3\u001b[0m \u001b[32m━━━━━━━━━━━━━━━━━━━━\u001b[0m\u001b[37m\u001b[0m \u001b[1m0s\u001b[0m 48ms/step - loss: 0.0089 - val_loss: 0.0033\n",
      "Epoch 18/20\n",
      "\u001b[1m3/3\u001b[0m \u001b[32m━━━━━━━━━━━━━━━━━━━━\u001b[0m\u001b[37m\u001b[0m \u001b[1m0s\u001b[0m 47ms/step - loss: 0.0079 - val_loss: 0.0033\n",
      "Epoch 19/20\n",
      "\u001b[1m3/3\u001b[0m \u001b[32m━━━━━━━━━━━━━━━━━━━━\u001b[0m\u001b[37m\u001b[0m \u001b[1m0s\u001b[0m 47ms/step - loss: 0.0089 - val_loss: 0.0032\n",
      "Epoch 20/20\n",
      "\u001b[1m3/3\u001b[0m \u001b[32m━━━━━━━━━━━━━━━━━━━━\u001b[0m\u001b[37m\u001b[0m \u001b[1m0s\u001b[0m 59ms/step - loss: 0.0098 - val_loss: 0.0035\n"
     ]
    }
   ],
   "source": [
    "history = model.fit(X_train, y_train, epochs=20, batch_size=32, validation_split=0.1)"
   ]
  },
  {
   "cell_type": "markdown",
   "id": "99b53f2f",
   "metadata": {},
   "source": [
    "- X_train: Training data (input sequences).\n",
    "- y_train: Training labels (corresponding target values).\n",
    "- epochs=20: Number of times the entire training dataset will be passed through the model during training.\n",
    "- batch_size=32: Number of samples per gradient update. The model will be updated after every 32 samples.\n",
    "- validation_split=0.1: Fraction of the training data (10%) to be used as validation data to monitor the model's performance during training.\n",
    "- history: Stores the training history, including loss and validation metrics, which can be used for further analysis and visualization."
   ]
  },
  {
   "cell_type": "markdown",
   "id": "578ff892",
   "metadata": {},
   "source": [
    "## Step 4: Evaluating the Model"
   ]
  },
  {
   "cell_type": "code",
   "execution_count": 15,
   "id": "fa61bdf6",
   "metadata": {},
   "outputs": [
    {
     "name": "stdout",
     "output_type": "stream",
     "text": [
      "\u001b[1m1/1\u001b[0m \u001b[32m━━━━━━━━━━━━━━━━━━━━\u001b[0m\u001b[37m\u001b[0m \u001b[1m0s\u001b[0m 237ms/step\n"
     ]
    }
   ],
   "source": [
    "predicted_prices = model.predict(X_test)\n",
    "predicted_prices = scaler.inverse_transform(np.concatenate((np.zeros((predicted_prices.shape[0], 4)), predicted_prices), axis=1))[:, 4]\n",
    "\n",
    "# Inverse transform the actual prices\n",
    "actual_prices = scaler.inverse_transform(np.concatenate((np.zeros((y_test.shape[0], 4)), y_test.reshape(-1, 1)), axis=1))[:, 4]"
   ]
  },
  {
   "cell_type": "markdown",
   "id": "308bcdf0",
   "metadata": {},
   "source": [
    "- predicted_prices: Uses the trained model to predict the stock prices for the test data (X_test).\n",
    "- np.concatenate: Concatenates the predicted prices with an array of zeros to match the original number of features (adding 4 columns of zeros).\n",
    "- scaler.inverse_transform: Applies the inverse of the scaling transformation to convert the scaled predictions back to the original scale.\n",
    "- [:, 4]: Extracts the 'Close' prices from the inverse-transformed array (5th column).\n",
    "- y_test.reshape(-1, 1): Reshapes the actual prices to a 2D array with one column.\n",
    "- np.concatenate: Concatenates the actual prices with an array of zeros to match the original number of features (adding 4 columns of zeros).\n",
    "- scaler.inverse_transform: Applies the inverse of the scaling transformation to convert the scaled actual prices back to the original scale.\n",
    "- [:, 4]: Extracts the 'Close' prices from the inverse-transformed array (5th column)."
   ]
  },
  {
   "cell_type": "code",
   "execution_count": 16,
   "id": "821e52f9",
   "metadata": {},
   "outputs": [
    {
     "name": "stdout",
     "output_type": "stream",
     "text": [
      "MSE: 1761561978159491.2\n",
      "MAE: 35532710.03450105\n",
      "RMSE: 41970965.895002834\n"
     ]
    }
   ],
   "source": [
    "# Calculate Performance Metrics\n",
    "from sklearn.metrics import mean_squared_error, mean_absolute_error\n",
    "\n",
    "mse = mean_squared_error(actual_prices, predicted_prices)\n",
    "mae = mean_absolute_error(actual_prices, predicted_prices)\n",
    "rmse = np.sqrt(mse)\n",
    "\n",
    "print(f'MSE: {mse}')\n",
    "print(f'MAE: {mae}')\n",
    "print(f'RMSE: {rmse}')\n"
   ]
  },
  {
   "cell_type": "markdown",
   "id": "59fdccc4",
   "metadata": {},
   "source": [
    "1. Mean Squared Error (MSE):\n",
    "- MSE: 1711259536161093.8\n",
    "- MSE measures the average of the squares of the errors, that is, the average squared difference between the actual and predicted values. A higher value indicates larger errors.\n",
    "- In this case, the MSE value is extremely large, suggesting that the model's predictions are significantly off from the actual values.\n",
    "\n",
    "2. Mean Absolute Error (MAE):\n",
    "- MAE: 34788369.99745924\n",
    "- MAE measures the average of the absolute errors, that is, the average absolute difference between the actual and predicted values. It is a direct measure of the model's prediction accuracy.\n",
    "- An MAE of around 34.8 million indicates that, on average, the predicted prices deviate from the actual prices by this amount, which is substantial.\n",
    "\n",
    "3. Root Mean Squared Error (RMSE):\n",
    "- RMSE: 41367372.845771745\n",
    "- RMSE is the square root of the MSE. It provides an error metric in the same units as the target variable (stock prices in this case), making it easier to interpret.\n",
    "- An RMSE of around 41.4 million confirms that the model's predictions have large deviations from the actual prices, similar to the MAE.\n",
    "\n",
    "**Summary**\n",
    "- High MSE and RMSE values indicate that the model's predictions are not close to the actual stock prices.\n",
    "- High MAE further confirms that the average prediction error is very large."
   ]
  },
  {
   "cell_type": "markdown",
   "id": "c7c19ea5",
   "metadata": {},
   "source": [
    "## Step 5: Visualization"
   ]
  },
  {
   "cell_type": "code",
   "execution_count": 17,
   "id": "6cae61ec",
   "metadata": {},
   "outputs": [
    {
     "data": {
      "image/png": "[encoded data removed]",
      "text/plain": [
       "<Figure size 1008x360 with 1 Axes>"
      ]
     },
     "metadata": {
      "needs_background": "light"
     },
     "output_type": "display_data"
    }
   ],
   "source": [
    "import matplotlib.pyplot as plt\n",
    "\n",
    "plt.figure(figsize=(14, 5))\n",
    "plt.plot(data.index[-len(actual_prices):], actual_prices, color='blue', label='Actual Prices')\n",
    "plt.plot(data.index[-len(predicted_prices):], predicted_prices, color='red', label='Predicted Prices')\n",
    "plt.xlabel('Date')\n",
    "plt.ylabel('Price')\n",
    "plt.title('Actual vs Predicted Stock Prices')\n",
    "plt.legend()\n",
    "plt.show()"
   ]
  },
  {
   "cell_type": "markdown",
   "id": "d91c7888",
   "metadata": {},
   "source": [
    "### Inferences \n",
    "\n",
    "**Trends:**\n",
    "- The actual prices (blue line) show significant fluctuations with notable peaks and troughs.\n",
    "- The predicted prices (red line) show a smoother, more gradual trend compared to the actual prices.\n",
    "\n",
    "**Performance:**\n",
    "- The predicted prices fail to capture the sharp movements in the actual prices. This is evident in the periods where the actual prices rise or fall steeply, but the predicted prices remain relatively steady.\n",
    "- The model seems to underestimate the peaks and overestimate the troughs, indicating it is not accurately capturing the volatility of the stock prices.\n",
    "\n",
    "**Alignment:**\n",
    "- While there is some overall alignment in the general trend (both actual and predicted prices seem to - increase from 2017-10 to around 2018-01), the predicted prices do not match the actual prices closely in terms of specific values or sharp changes.\n"
   ]
  },
  {
   "cell_type": "markdown",
   "id": "2bd1c302",
   "metadata": {},
   "source": [
    "### Possible Issues and Solutions:\n",
    "\n",
    "1. Model Complexity: Your model might be too simple to capture the complex patterns and volatility in stock prices. Consider adding more layers, units, or more sophisticated architectures like a stacked LSTM or a combination of LSTM and other layers.\n",
    "2. Feature Engineering: Incorporate additional features that might help the model better understand the stock price movements, such as technical indicators (moving averages, RSI, etc.), external market factors, or other relevant financial metrics.\n",
    "3. Hyperparameter Tuning:Experiment with different hyperparameters, such as the number of epochs, batch size, learning rate, and dropout rates, to improve the model's performance.\n",
    "4. Data Preprocessing:Ensure that the data is properly preprocessed and scaled. Check if the scaling and inverse scaling are performed correctly.\n",
    "5. Training Data: Ensure that the training data is representative of various market conditions. If the training data does not include enough instances of volatility, the model may not learn to predict such movements accurately.\n"
   ]
  },
  {
   "cell_type": "code",
   "execution_count": null,
   "id": "470f7bd1",
   "metadata": {},
   "outputs": [],
   "source": [
    "# Example: Stacking More LSTM Layers\n",
    "\n",
    "from tensorflow.keras.models import Sequential\n",
    "from tensorflow.keras.layers import LSTM, Dense, Dropout, Input\n",
    "\n",
    "model = Sequential()\n",
    "model.add(Input(shape=(X_train.shape[1], X_train.shape[2])))\n",
    "model.add(LSTM(units=100, return_sequences=True))\n",
    "model.add(Dropout(0.2))\n",
    "model.add(LSTM(units=100, return_sequences=True))\n",
    "model.add(Dropout(0.2))\n",
    "model.add(LSTM(units=50, return_sequences=False))\n",
    "model.add(Dropout(0.2))\n",
    "model.add(Dense(units=1))\n",
    "\n",
    "model.compile(optimizer='adam', loss='mean_squared_error')\n"
   ]
  },
  {
   "cell_type": "code",
   "execution_count": null,
   "id": "58a750f1",
   "metadata": {},
   "outputs": [],
   "source": [
    "# Example: Adding More Features"
   ]
  },
  {
   "cell_type": "code",
   "execution_count": null,
   "id": "6dda96c5",
   "metadata": {},
   "outputs": [],
   "source": [
    "# Example of adding a moving average feature\n",
    "data['MA_10'] = data['Close'].rolling(window=10).mean()\n",
    "X_train = data[['Close', 'MA_10']]  # Include additional features\n"
   ]
  }
 ],
 "metadata": {
  "kernelspec": {
   "display_name": "Python 3 (ipykernel)",
   "language": "python",
   "name": "python3"
  },
  "language_info": {
   "codemirror_mode": {
    "name": "ipython",
    "version": 3
   },
   "file_extension": ".py",
   "mimetype": "text/x-python",
   "name": "python",
   "nbconvert_exporter": "python",
   "pygments_lexer": "ipython3",
   "version": "3.9.7"
  }
 },
 "nbformat": 4,
 "nbformat_minor": 5
}
