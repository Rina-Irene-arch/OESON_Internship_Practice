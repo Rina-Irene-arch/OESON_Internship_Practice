{
 "cells": [
  {
   "cell_type": "markdown",
   "id": "228beda7",
   "metadata": {},
   "source": [
    "# Model Evaluation\n",
    "\n",
    "1. Data Preparation\n",
    "\n",
    "Data preparation is like getting all the ingredients ready before cooking. It involves cleaning the data (removing or fixing any errors or missing values), normalizing or standardizing it (so all features have similar scales), and sometimes augmenting it (adding more data through transformations). For the MVTec AD dataset, this might include resizing images, converting them to grayscale or color, and ensuring that each image is labeled correctly.\n",
    "\n",
    "2. Train - Test Split\n",
    "\n",
    "This step involves dividing your dataset into two parts: one for training your model (train set) and one for testing it (test set). It's like studying for an exam using a portion of the material (training) and then testing your knowledge on a different set of questions (testing). Typically, 70-80% of the data is used for training, and the rest for testing. This helps in evaluating how well your model will perform on unseen data.\n",
    "\n",
    "3. Model Training\n",
    "\n",
    "Model training is where the magic happens. The training data is fed into the machine learning algorithm, which learns patterns and relationships within the data. This is similar to learning from examples and improving your skills over time. For anomaly detection, the model learns what normal (non-anomalous) data looks like, so it can identify what doesn’t fit that pattern.\n",
    "\n",
    "4. Model Evaluation using Metrics\n",
    "\n",
    "After training, you need to evaluate how well your model performs. This involves using metrics like accuracy, precision, recall, F1-score, etc. It’s like getting a report card that tells you how well you did. Each metric provides different insights:\n",
    "\n",
    "- **Accuracy**: How many predictions were correct overall.\n",
    "- **Precision**: Out of all the predicted anomalies, how many were actual anomalies. Higher precision means fewer false positives\n",
    "- **Recall**: true positive rate - Out of all actual anomalies, how many were correctly predicted. Higher recall means fewer false negatives\n",
    "- **F1-score**: A balance between precision and recall.\n",
    "\n",
    "5. Cross-Validation\n",
    "\n",
    "Cross-validation is a technique to make sure your model's performance is robust and not dependent on a particular train-test split. It involves dividing the data into multiple folds (subsets) and training/testing the model multiple times, each time with a different fold as the test set and the remaining folds as the training set. This is like taking multiple mock exams to ensure you're consistently good and not just lucky once.\n",
    "\n",
    "6. Confusion Matrix\n",
    "\n",
    "A confusion matrix is a table that summarizes the performance of a classification model. It shows the counts of \n",
    "- **true positive** (correctly identified anomalies), \n",
    "- **true negative** (correctly identified normal data), \n",
    "- **false positive** (normal data incorrectly labeled as anomalies). (Type I error).\n",
    "- **false negative** (anomalies incorrectly labeled as normal). (Type II error).\n",
    "\n",
    "It’s a detailed report card that shows where the model is getting things right and where it’s making mistakes.\n",
    "\n",
    "7. Precision-Recall Curve\n",
    "\n",
    "The precision-recall curve is a graph that shows the trade-off between precision and recall for different threshold settings. Higher precision means fewer false positives, and higher recall means fewer false negatives. The curve helps in understanding the balance between precision and recall and finding an optimal threshold for your specific application.\n",
    "\n",
    "8. ROC Curve\n",
    "\n",
    "The ROC (Receiver Operating Characteristic) curve is another graph that shows the trade-off between true positive rate (recall) and false positive rate. The area under the ROC curve (AUC) provides a single measure of the model’s performance. A model with an AUC close to 1 indicates a good model, while an AUC close to 0.5 suggests a model no better than random guessing. It’s like a comprehensive score that tells you how well your model distinguishes between anomalies and normal data."
   ]
  },
  {
   "cell_type": "markdown",
   "id": "06987e0b",
   "metadata": {},
   "source": [
    "1. Data Preparation \n",
    "2. Train - Test Split \n",
    "3. Model Training \n",
    "4. Model Evaluation using Metrics \n",
    "5. Cross - Validation \n",
    "6. Confuion Matrix \n",
    "7. Precision- Recall Curve \n",
    "8. ROC Curve "
   ]
  },
  {
   "cell_type": "code",
   "execution_count": 1,
   "id": "e03a2943",
   "metadata": {},
   "outputs": [
    {
     "name": "stderr",
     "output_type": "stream",
     "text": [
      "C:\\Users\\dell\\anaconda3\\lib\\site-packages\\scipy\\__init__.py:146: UserWarning: A NumPy version >=1.16.5 and <1.23.0 is required for this version of SciPy (detected version 1.26.4\n",
      "  warnings.warn(f\"A NumPy version >={np_minversion} and <{np_maxversion}\"\n"
     ]
    }
   ],
   "source": [
    "import pandas as pd \n",
    "import numpy as np \n",
    "import matplotlib.pyplot as plt \n",
    "import seaborn as sns \n",
    "\n",
    "from sklearn.model_selection import train_test_split, cross_val_score\n",
    "from sklearn.metrics import(accuracy_score, precision_score, f1_score, confusion_matrix, \n",
    "                            precision_recall_curve,recall_score,\n",
    "                    roc_curve, roc_auc_score, mean_squared_error, mean_absolute_error, r2_score)\n",
    "\n",
    "from sklearn.datasets import load_iris, fetch_california_housing\n",
    "from sklearn.linear_model import LogisticRegression, LinearRegression"
   ]
  },
  {
   "cell_type": "markdown",
   "id": "a384bfe4",
   "metadata": {},
   "source": [
    "`load_boston` has been removed from scikit-learn since version 1.2.\n",
    "\n",
    "The Boston housing prices dataset has an ethical problem: as\n",
    "investigated in [1], the authors of this dataset engineered a\n",
    "non-invertible variable \"B\" assuming that racial self-segregation had a\n",
    "positive impact on house prices [2]. Furthermore the goal of the\n",
    "research that led to the creation of this dataset was to study the\n",
    "impact of air quality but it did not give adequate demonstration of the\n",
    "validity of this assumption.\n",
    "\n",
    "The scikit-learn maintainers therefore strongly discourage the use of\n",
    "this dataset unless the purpose of the code is to study and educate\n",
    "about ethical issues in data science and machine learning.\n",
    "\n",
    "In this special case, you can fetch the dataset from the original\n",
    "source::\n",
    "\n",
    "    import pandas as pd\n",
    "    import numpy as np\n",
    "\n",
    "    data_url = \"http://lib.stat.cmu.edu/datasets/boston\"\n",
    "    raw_df = pd.read_csv(data_url, sep=\"\\s+\", skiprows=22, header=None)\n",
    "    data = np.hstack([raw_df.values[::2, :], raw_df.values[1::2, :2]])\n",
    "    target = raw_df.values[1::2, 2]\n",
    "\n",
    "Alternative datasets include the California housing dataset and the\n",
    "Ames housing dataset. You can load the datasets as follows::\n",
    "\n",
    "    from sklearn.datasets import fetch_california_housing\n",
    "    housing = fetch_california_housing()\n",
    "\n",
    "for the California housing dataset and::\n",
    "\n",
    "    from sklearn.datasets import fetch_openml\n",
    "    housing = fetch_openml(name=\"house_prices\", as_frame=True"
   ]
  },
  {
   "cell_type": "markdown",
   "id": "24ea9523",
   "metadata": {},
   "source": [
    "Regression Metrics: \n",
    "1. MSE \n",
    "2. MAE \n",
    "3. RMSE \n",
    "4. R2 score : value ranges between 0 and 1 \n",
    "\n",
    "\n",
    "Classification Metrics: \n",
    "1. Accuracy : values are correctly classified \n",
    "2. Precision: 10 - 5 M and 5 F - how many are relevant from selected  \n",
    "3. Recall(senstivity): how many relevants items are selected \n",
    "4. F1 - score: for imabalanced dataset - make balance precision and recall \n",
    "5. ROC (Receiver operating Characteristics) and AUC (Area Under Curve): 0.5 to 1 \n",
    "\n"
   ]
  },
  {
   "cell_type": "markdown",
   "id": "9e666d56",
   "metadata": {},
   "source": [
    "## 2. Train - Test Split"
   ]
  },
  {
   "cell_type": "code",
   "execution_count": 2,
   "id": "d6e79fee",
   "metadata": {},
   "outputs": [],
   "source": [
    "#IRIS DATASET\n",
    "# Train - Test Split \n",
    "iris = load_iris()\n",
    "X_iris = iris.data\n",
    "y_iris = iris.target\n",
    "\n",
    "# Split into training and testing sets\n",
    "X_train_iris, X_test_iris, y_train_iris, y_test_iris = train_test_split(X_iris, y_iris, \n",
    "                                                                        test_size=0.2, \n",
    "                                                                        random_state=42)"
   ]
  },
  {
   "cell_type": "code",
   "execution_count": 3,
   "id": "8f9dfd22",
   "metadata": {},
   "outputs": [],
   "source": [
    "#HOUSING DATASET \n",
    "#Train - Test Split \n",
    "house = fetch_california_housing()\n",
    "X_house = house.data\n",
    "y_house = house.target\n",
    "\n",
    "# Split into training and testing sets\n",
    "X_train_house, X_test_house, y_train_house, y_test_house = train_test_split(X_house, \n",
    "                                                                                y_house, \n",
    "                                                                                test_size=0.2,\n",
    "                                                                                random_state=42)\n"
   ]
  },
  {
   "cell_type": "markdown",
   "id": "b5ec19af",
   "metadata": {},
   "source": [
    "## 3. Model Training"
   ]
  },
  {
   "cell_type": "code",
   "execution_count": 4,
   "id": "ad953cc2",
   "metadata": {},
   "outputs": [],
   "source": [
    "# Train Logistic Regression model\n",
    "clf = LogisticRegression(max_iter=200)\n",
    "clf.fit(X_train_iris, y_train_iris)\n",
    "\n",
    "# Predict on test set\n",
    "y_pred_iris = clf.predict(X_test_iris)"
   ]
  },
  {
   "cell_type": "code",
   "execution_count": 5,
   "id": "c8bec0bf",
   "metadata": {},
   "outputs": [],
   "source": [
    "# Train Linear Regression model\n",
    "reg = LinearRegression()\n",
    "reg.fit(X_train_house, y_train_house)\n",
    "\n",
    "# Predict on test set\n",
    "y_pred_house = reg.predict(X_test_house)"
   ]
  },
  {
   "cell_type": "markdown",
   "id": "b64d6d3f",
   "metadata": {},
   "source": [
    "## 4. Model Evaluation using Metrics"
   ]
  },
  {
   "cell_type": "markdown",
   "id": "eaf6f980",
   "metadata": {},
   "source": [
    "### Classification\n",
    "\n",
    "1. **Accuracy**\n",
    "- Definition: The ratio of correctly predicted instances to the total number of instances.\n",
    "- Use: Good for balanced datasets but can be misleading if classes are imbalanced.\n",
    "\n",
    "2. **Precision**\n",
    "- Definition: The ratio of true positive predictions to the total number of positive predictions (true positives + false positives).\n",
    "- Use: Important when the cost of false positives is high, such as in spam detection.\n",
    "\n",
    "3. **Recall (Sensitivity, True Positive Rate)**\n",
    "- Definition: The ratio of true positive predictions to the total number of actual positives (true positives + false negatives).\n",
    "- Use: Crucial when missing positive instances is costly, such as in medical diagnoses.\n",
    "\n",
    "4. **F1-Score**\n",
    "- Definition: The harmonic mean of precision and recall. It balances both metrics and provides a single score.\n",
    "- Use: Useful when you need a balance between precision and recall.\n",
    "\n",
    "5. **Confusion matrix**\n",
    "- Definition: A table showing the counts of true positives, true negatives, false positives, and false negatives.\n",
    "- Use: Helps visualize performance and understand where the model makes errors.\n",
    "\n",
    "6. **ROC Curve and AUC**\n",
    "- ROC Curve: A graph plotting the true positive rate (recall) against the false positive rate at various threshold settings.\n",
    "- AUC (Area Under Curve): The area under the ROC curve, which summarizes the model’s ability to distinguish between classes. An AUC close to 1 indicates a good model.\n",
    "\n",
    "7. **Precision-Recall Curve**\n",
    "- PR Curve: A graph showing the trade-off between precision and recall for different threshold settings.\n",
    "- Use: Especially useful for imbalanced datasets to evaluate the model’s performance across different levels of precision and recall.\n",
    "\n",
    "### Regression Metrics\n",
    "- Regression metrics are used to evaluate models that predict continuous outcomes (e.g., predicting house prices). Here are some common metrics:\n",
    "\n",
    "1. **Mean Absolute Error (MAE)**\n",
    "- Definition: The average absolute differences between predicted and actual values.\n",
    "- Use: Gives a straightforward measure of prediction accuracy in the same units as the target variable.\n",
    "\n",
    "2. **Mean Squared Error (MSE)**\n",
    "- Definition: The average of the squared differences between predicted and actual values.\n",
    "- Use: Penalizes larger errors more heavily due to squaring, making it sensitive to outliers.\n",
    "\n",
    "3. **Root Mean Squared Error (RMSE)**\n",
    "- Definition: The square root of the mean squared error. It brings the error measure back to the same units as the target variable.\n",
    "- Use: Useful when you need to understand the magnitude of prediction errors in the same units as the target variable.\n",
    "\n",
    "4. **R-Squared (R²)**\n",
    "- Definition: The proportion of variance in the target variable that is predictable from the features.\n",
    "- Use: Indicates how well the model explains the variability of the target variable. R² values range from 0 to 1, with higher values indicating better model performance.\n",
    "\n",
    "5. **Adjusted R-Squared**\n",
    "- Definition: A modified version of R² that adjusts for the number of predictors in the model.\n",
    "- Use: Useful for comparing models with different numbers of predictors."
   ]
  },
  {
   "cell_type": "code",
   "execution_count": 6,
   "id": "b1314e21",
   "metadata": {},
   "outputs": [
    {
     "name": "stdout",
     "output_type": "stream",
     "text": [
      "Accuracy: 1.0\n",
      "Precision: 1.0\n",
      "Recall: 1.0\n",
      "F1: 1.0\n"
     ]
    }
   ],
   "source": [
    "#Classification Metrics \n",
    "\n",
    "accuracy = accuracy_score(y_test_iris,y_pred_iris)\n",
    "precision = precision_score(y_test_iris,y_pred_iris, average = 'weighted')\n",
    "recall = recall_score(y_test_iris,y_pred_iris, average = 'weighted')\n",
    "f1 = f1_score(y_test_iris,y_pred_iris, average = 'weighted')\n",
    "\n",
    "print(f\"Accuracy: {accuracy}\")\n",
    "print(f\"Precision: {accuracy}\")\n",
    "print(f\"Recall: {accuracy}\")\n",
    "print(f\"F1: {accuracy}\")"
   ]
  },
  {
   "cell_type": "code",
   "execution_count": 7,
   "id": "27d09a80",
   "metadata": {},
   "outputs": [
    {
     "name": "stdout",
     "output_type": "stream",
     "text": [
      "MSE: 0.555891598695242\n",
      "RMSE: 0.7455813830127748\n",
      "MAE: 0.5332001304956981\n",
      "R2: 0.5757877060324526\n"
     ]
    }
   ],
   "source": [
    "#Regression Metrics \n",
    "\n",
    "mse = mean_squared_error(y_test_house,y_pred_house)\n",
    "rmse = mean_squared_error(y_test_house,y_pred_house, squared = False)\n",
    "mae = mean_absolute_error(y_test_house,y_pred_house)\n",
    "r2 = r2_score(y_test_house,y_pred_house)\n",
    "\n",
    "print(f\"MSE: {mse}\")\n",
    "print(f\"RMSE: {rmse}\")\n",
    "print(f\"MAE: {mae}\")\n",
    "print(f\"R2: {r2}\")"
   ]
  },
  {
   "cell_type": "markdown",
   "id": "aa489cf0",
   "metadata": {},
   "source": [
    "## 5. Cross Validation"
   ]
  },
  {
   "cell_type": "code",
   "execution_count": 8,
   "id": "de83222e",
   "metadata": {},
   "outputs": [
    {
     "name": "stdout",
     "output_type": "stream",
     "text": [
      "Cross Validation Score: [0.96666667 1.         0.93333333 0.96666667 1.        ]\n",
      "Mean CV Score: 0.9733333333333334\n"
     ]
    }
   ],
   "source": [
    "#Classification CV \n",
    "\n",
    "cv_score = cross_val_score(clf, X_iris, y_iris, cv=5)\n",
    "print(f\"Cross Validation Score: {cv_score}\")\n",
    "print(f\"Mean CV Score: {cv_score.mean()}\")"
   ]
  },
  {
   "cell_type": "code",
   "execution_count": 9,
   "id": "ca3aef59",
   "metadata": {},
   "outputs": [
    {
     "name": "stdout",
     "output_type": "stream",
     "text": [
      "Cross Validation Regression Score: [-0.48485857 -0.62249739 -0.64621047 -0.5431996  -0.49468484]\n",
      "Mean Regression CV Score: -0.5582901717686809\n"
     ]
    }
   ],
   "source": [
    "#Regression CV \n",
    "\n",
    "cv_scores = cross_val_score(reg, X_house, y_house, cv=5, scoring = 'neg_mean_squared_error')\n",
    "print(f\"Cross Validation Regression Score: {cv_scores}\")\n",
    "print(f\"Mean Regression CV Score: {cv_scores.mean()}\")"
   ]
  },
  {
   "cell_type": "markdown",
   "id": "5aa73565",
   "metadata": {},
   "source": [
    "## 6. Confusion Matrix\n",
    "\n",
    "- True Positive (TP): Correctly predicted positive instances.\n",
    "- True Negative (TN): Correctly predicted negative instances.\n",
    "- False Positive (FP): Incorrectly predicted positive instances (Type I error).\n",
    "- False Negative (FN): Incorrectly predicted negative instances (Type II error)."
   ]
  },
  {
   "cell_type": "code",
   "execution_count": 10,
   "id": "7b6927d5",
   "metadata": {},
   "outputs": [
    {
     "data": {
      "text/plain": [
       "<function matplotlib.pyplot.show(close=None, block=None)>"
      ]
     },
     "execution_count": 10,
     "metadata": {},
     "output_type": "execute_result"
    },
    {
     "data": {
      "image/png": "[encoded data removed]",
      "text/plain": [
       "<Figure size 432x288 with 2 Axes>"
      ]
     },
     "metadata": {
      "needs_background": "light"
     },
     "output_type": "display_data"
    }
   ],
   "source": [
    "#Classification \n",
    "cm = confusion_matrix(y_test_iris, y_pred_iris)\n",
    "sns.heatmap(cm, annot= True, fmt = 'd', cmap = 'Blues')\n",
    "plt.xlabel('Predicted')\n",
    "plt.ylabel('Actual')\n",
    "plt.title('Confusion Matrix')\n",
    "plt.show"
   ]
  },
  {
   "cell_type": "markdown",
   "id": "3b5cb11c",
   "metadata": {},
   "source": [
    "## 7. Precision_Recall_Score "
   ]
  },
  {
   "cell_type": "code",
   "execution_count": 11,
   "id": "86f0c23e",
   "metadata": {},
   "outputs": [
    {
     "data": {
      "image/png": "[encoded data removed]",
      "text/plain": [
       "<Figure size 432x288 with 1 Axes>"
      ]
     },
     "metadata": {
      "needs_background": "light"
     },
     "output_type": "display_data"
    }
   ],
   "source": [
    "#Predict the probabilities for positive class \n",
    "y_scores = clf.predict_proba(X_test_iris)[:, 1]\n",
    "\n",
    "#P-R pair for different threshold \n",
    "pre, recall, thresholds = precision_recall_curve(y_test_iris, y_scores, pos_label=1)\n",
    "\n",
    "\n",
    "plt.plot(thresholds, pre[:-1], 'b--', label = \"Precision\")\n",
    "plt.plot(thresholds, recall[:-1], 'g-', label = \"Recall\")\n",
    "plt.xlabel(\"Threshold\")\n",
    "plt.legend(loc=\"best\")\n",
    "plt.title(\"Precision_Recall_Curve\")\n",
    "plt.show()"
   ]
  },
  {
   "cell_type": "markdown",
   "id": "d3420206",
   "metadata": {},
   "source": [
    "The Precision-Recall curve provides insight into the performance of a classification model, especially in situations where class imbalance is present. In your plot for the Iris dataset, we can deduce the following:\n",
    "\n",
    "Precision: The dashed blue line represents precision. In this plot, precision appears to stay constant at around 1.0 (or very close to it) across different threshold values. This suggests that when the model predicts the positive class, it is almost always correct.\n",
    "\n",
    "Recall: The solid green line represents recall. Recall starts high and gradually decreases as the threshold increases. This indicates that the model initially identifies most of the positive instances but starts missing them as the threshold for classifying an instance as positive increases.\n",
    "\n",
    "Threshold: The x-axis represents different threshold values. As the threshold increases, fewer instances are classified as positive, which typically decreases recall and may affect precision.\n",
    "\n",
    "Trade-off: The plot illustrates the trade-off between precision and recall. To achieve high recall, the threshold is low, capturing more true positives but potentially including more false positives. Conversely, a higher threshold improves precision but reduces recall as fewer positives are identified.\n",
    "\n",
    "For the Iris dataset:\n",
    "\n",
    "If your goal is to minimize false negatives (e.g., you care more about capturing all positive instances), you might choose a lower threshold, accepting some false positives."
   ]
  },
  {
   "cell_type": "markdown",
   "id": "4a3cda4c",
   "metadata": {},
   "source": [
    "\n",
    "8. ROC Curve\n",
    "\n",
    "The ROC (Receiver Operating Characteristic) curve is another graph that shows the trade-off between true positive rate (recall) and false positive rate. The area under the ROC curve (AUC) provides a single measure of the model’s performance. A model with an AUC close to 1 indicates a good model, while an AUC close to 0.5 suggests a model no better than random guessing. It’s like a comprehensive score that tells you how well your model distinguishes between anomalies and normal data."
   ]
  },
  {
   "cell_type": "code",
   "execution_count": null,
   "id": "14b483a1",
   "metadata": {},
   "outputs": [],
   "source": []
  }
 ],
 "metadata": {
  "kernelspec": {
   "display_name": "Python 3 (ipykernel)",
   "language": "python",
   "name": "python3"
  },
  "language_info": {
   "codemirror_mode": {
    "name": "ipython",
    "version": 3
   },
   "file_extension": ".py",
   "mimetype": "text/x-python",
   "name": "python",
   "nbconvert_exporter": "python",
   "pygments_lexer": "ipython3",
   "version": "3.9.7"
  }
 },
 "nbformat": 4,
 "nbformat_minor": 5
}
