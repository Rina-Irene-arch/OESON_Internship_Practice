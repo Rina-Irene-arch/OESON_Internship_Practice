{
 "cells": [
  {
   "cell_type": "markdown",
   "metadata": {
    "id": "CazISR8X_HUG"
   },
   "source": [
    "# Multiple Linear Regression\n",
    "\n",
    "Multiple Linear Regression (MLR) is an extension of simple linear regression that models the relationship between two or more independent (predictor) variables and a dependent (response) variable by fitting a linear equation to the observed data.\n",
    "The formula for MLR is:\n",
    "\n",
    "![MultilinearRegression.jpg](data:image/jpeg;base64,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)\n",
    "\n",
    "\n",
    "Where:\n",
    "\n",
    "y - dependent variable.\n",
    "\n",
    "x1,x2, ...xn - independent variables.\n",
    "\n",
    "𝛽0 - intercept\n",
    "\n",
    "𝛽1, 𝛽2 ...𝛽n - coefficients\n",
    "\n",
    "ϵ  - the error term."
   ]
  },
  {
   "cell_type": "markdown",
   "metadata": {
    "id": "lFX1iwmSWVnG"
   },
   "source": [
    "### Usage example:\n",
    "\n",
    "Marketing Analysis:\n",
    "\n",
    "**Scenario**: A marketing analyst wants to determine the impact of various digital marketing channels on website traffic.\n",
    "\n",
    "**Independent Variables**: Spend on social media ads, spend on search engine ads, email campaign frequency, content marketing efforts, etc.\n",
    "Dependent Variable: Website traffic (number of visitors).\n",
    "\n",
    "**Usage**: The MLR model can help the analyst understand which marketing channels are most effective in driving traffic and allocate budget accordingly."
   ]
  },
  {
   "cell_type": "code",
   "execution_count": null,
   "metadata": {
    "id": "1bd55VWxWUoA"
   },
   "outputs": [],
   "source": []
  },
  {
   "cell_type": "markdown",
   "metadata": {
    "id": "8emOomqZBFts"
   },
   "source": [
    "#### **About this Dataset**\n",
    "\n",
    "https://www.kaggle.com/code/sonalisingh1411/multiple-linear-regression-model-on-50-startup\n",
    "\n",
    "This dataset has data collected from New York, California and Florida about 50 business Startups \"17 in each state\". The variables used in the dataset are Profit, R&D spending, Administration Spending, and Marketing Spending.\n",
    "\n",
    "It's a great dataset for evaluating Multiple regression models.\n",
    "\n",
    "#### **Goal**\n",
    "To predict whether a particular startup would be safe to invest in or not."
   ]
  },
  {
   "cell_type": "markdown",
   "metadata": {
    "id": "BOYtbhRDEe5-"
   },
   "source": [
    "###**Data set description**\n",
    "Dataset contain 5 columns--\"R&D Spend\",\"Administration\",\"Marketing Spend\",\"State\",\"Profit\".\n",
    "\n",
    "1.   **R&D Spend** Research and development – R&D – is the process by which a company works to obtain new knowledge that it might use to create new technology, products, services, or systems that it will either use or sell. So,this column tells you how much you spend on R&D.\n",
    "2. **Administration** It is the process of arrangements and tasks needed to control the operation of a plan or organization.\n",
    "\n",
    "3. **Marketing Spend** refers to activities undertaken by a company to promote the buying or selling of a product or service. Marketing includes advertising, selling, and delivering products to consumers or other businesses.\n",
    "\n",
    "4. **State** This column contain three states which is Califonia,Newyork and Floida.\n",
    "5. **Profit**\n",
    "Profit is a financial benefit that is realized when the amount of revenue gained from a business activity exceeds the expenses, costs, and taxes needed to sustain the activity.  \n",
    "\n",
    "\n",
    "\n",
    "\n",
    "\n"
   ]
  },
  {
   "cell_type": "markdown",
   "metadata": {},
   "source": [
    "This notebook demonstrates how to use Multiple Linear Regression to predict profit based on multiple features like R&D Spend, Administration, Marketing Spend, and State. The data is preprocessed, including encoding categorical variables, and then split into training and test sets. The model is trained on the training set and tested on the test set, with the results visualized for comparison."
   ]
  },
  {
   "cell_type": "markdown",
   "metadata": {
    "id": "pOyqYHTk_Q57"
   },
   "source": [
    "## 1. Importing the libraries"
   ]
  },
  {
   "cell_type": "code",
   "execution_count": 1,
   "metadata": {
    "executionInfo": {
     "elapsed": 1105,
     "status": "ok",
     "timestamp": 1720604999096,
     "user": {
      "displayName": "Rina Irene Rafalski",
      "userId": "17396273602632308485"
     },
     "user_tz": -180
    },
    "id": "T_YHJjnD_Tja"
   },
   "outputs": [],
   "source": [
    "import numpy as np              # numerical operations\n",
    "import matplotlib.pyplot as plt # plotting graphs\n",
    "import pandas as pd             # data manipulation and analysis"
   ]
  },
  {
   "cell_type": "markdown",
   "metadata": {
    "id": "vgC61-ah_WIz"
   },
   "source": [
    "## 2. Importing the dataset"
   ]
  },
  {
   "cell_type": "code",
   "execution_count": 4,
   "metadata": {
    "executionInfo": {
     "elapsed": 343,
     "status": "ok",
     "timestamp": 1720605180662,
     "user": {
      "displayName": "Rina Irene Rafalski",
      "userId": "17396273602632308485"
     },
     "user_tz": -180
    },
    "id": "UrxyEKGn_ez7"
   },
   "outputs": [],
   "source": [
    "dataset = pd.read_csv('50_Startups.csv') # Loads the dataset\n",
    "# Contains all the rows and all columns except the last one \n",
    "# (R&D Spend, Administration, Marketing Spend, State - fegatires values\n",
    "X = dataset.iloc[:, :-1].values\n",
    "# y: Contains all the rows and only the last column (Profit) - target value\n",
    "y = dataset.iloc[:, -1].values"
   ]
  },
  {
   "cell_type": "code",
   "execution_count": 5,
   "metadata": {
    "colab": {
     "base_uri": "https://localhost:8080/"
    },
    "executionInfo": {
     "elapsed": 360,
     "status": "ok",
     "timestamp": 1720605202220,
     "user": {
      "displayName": "Rina Irene Rafalski",
      "userId": "17396273602632308485"
     },
     "user_tz": -180
    },
    "id": "GOB3QhV9B5kD",
    "outputId": "05e99c53-e1c3-426a-afed-b228768c44b9"
   },
   "outputs": [
    {
     "name": "stdout",
     "output_type": "stream",
     "text": [
      "[[165349.2 136897.8 471784.1 'New York']\n",
      " [162597.7 151377.59 443898.53 'California']\n",
      " [153441.51 101145.55 407934.54 'Florida']\n",
      " [144372.41 118671.85 383199.62 'New York']\n",
      " [142107.34 91391.77 366168.42 'Florida']\n",
      " [131876.9 99814.71 362861.36 'New York']\n",
      " [134615.46 147198.87 127716.82 'California']\n",
      " [130298.13 145530.06 323876.68 'Florida']\n",
      " [120542.52 148718.95 311613.29 'New York']\n",
      " [123334.88 108679.17 304981.62 'California']\n",
      " [101913.08 110594.11 229160.95 'Florida']\n",
      " [100671.96 91790.61 249744.55 'California']\n",
      " [93863.75 127320.38 249839.44 'Florida']\n",
      " [91992.39 135495.07 252664.93 'California']\n",
      " [119943.24 156547.42 256512.92 'Florida']\n",
      " [114523.61 122616.84 261776.23 'New York']\n",
      " [78013.11 121597.55 264346.06 'California']\n",
      " [94657.16 145077.58 282574.31 'New York']\n",
      " [91749.16 114175.79 294919.57 'Florida']\n",
      " [86419.7 153514.11 0.0 'New York']\n",
      " [76253.86 113867.3 298664.47 'California']\n",
      " [78389.47 153773.43 299737.29 'New York']\n",
      " [73994.56 122782.75 303319.26 'Florida']\n",
      " [67532.53 105751.03 304768.73 'Florida']\n",
      " [77044.01 99281.34 140574.81 'New York']\n",
      " [64664.71 139553.16 137962.62 'California']\n",
      " [75328.87 144135.98 134050.07 'Florida']\n",
      " [72107.6 127864.55 353183.81 'New York']\n",
      " [66051.52 182645.56 118148.2 'Florida']\n",
      " [65605.48 153032.06 107138.38 'New York']\n",
      " [61994.48 115641.28 91131.24 'Florida']\n",
      " [61136.38 152701.92 88218.23 'New York']\n",
      " [63408.86 129219.61 46085.25 'California']\n",
      " [55493.95 103057.49 214634.81 'Florida']\n",
      " [46426.07 157693.92 210797.67 'California']\n",
      " [46014.02 85047.44 205517.64 'New York']\n",
      " [28663.76 127056.21 201126.82 'Florida']\n",
      " [44069.95 51283.14 197029.42 'California']\n",
      " [20229.59 65947.93 185265.1 'New York']\n",
      " [38558.51 82982.09 174999.3 'California']\n",
      " [28754.33 118546.05 172795.67 'California']\n",
      " [27892.92 84710.77 164470.71 'Florida']\n",
      " [23640.93 96189.63 148001.11 'California']\n",
      " [15505.73 127382.3 35534.17 'New York']\n",
      " [22177.74 154806.14 28334.72 'California']\n",
      " [1000.23 124153.04 1903.93 'New York']\n",
      " [1315.46 115816.21 297114.46 'Florida']\n",
      " [0.0 135426.92 0.0 'California']\n",
      " [542.05 51743.15 0.0 'New York']\n",
      " [0.0 116983.8 45173.06 'California']]\n"
     ]
    }
   ],
   "source": [
    "print(X)"
   ]
  },
  {
   "cell_type": "markdown",
   "metadata": {
    "id": "VadrvE7s_lS9"
   },
   "source": [
    "## 3. Encoding categorical data\n",
    "- One-hot encoding avoids creating a misleading ordinal relationship between categories. In the context of the code, this is important because the categorical feature likely represents something like state or region, where no natural order exists.\n",
    "- One-hot encoding ensures compatibility with a wide range of machine learning algorithms that expect numerical input. Some algorithms, like tree-based methods, can handle categorical data directly, but linear models cannot."
   ]
  },
  {
   "cell_type": "code",
   "execution_count": 6,
   "metadata": {
    "executionInfo": {
     "elapsed": 1171,
     "status": "ok",
     "timestamp": 1720605227339,
     "user": {
      "displayName": "Rina Irene Rafalski",
      "userId": "17396273602632308485"
     },
     "user_tz": -180
    },
    "id": "wV3fD1mbAvsh"
   },
   "outputs": [],
   "source": [
    "# ColumnTransformer and OneHotEncoder are used to handle categorical data.\n",
    "from sklearn.compose import ColumnTransformer\n",
    "from sklearn.preprocessing import OneHotEncoder\n",
    "# Creates a transformer that applies one-hot encoding to the 4th column (index 3) - State and leaves the rest of the columns unchanged.\n",
    "ct = ColumnTransformer(transformers=[('encoder', OneHotEncoder(), [3])], remainder='passthrough')\n",
    "# Applies the transformation and converts the result to a NumPy array\n",
    "X = np.array(ct.fit_transform(X))"
   ]
  },
  {
   "cell_type": "code",
   "execution_count": 7,
   "metadata": {
    "colab": {
     "base_uri": "https://localhost:8080/"
    },
    "executionInfo": {
     "elapsed": 367,
     "status": "ok",
     "timestamp": 1720605240262,
     "user": {
      "displayName": "Rina Irene Rafalski",
      "userId": "17396273602632308485"
     },
     "user_tz": -180
    },
    "id": "4ym3HdYeCGYG",
    "outputId": "ceeebb9c-ae7f-42e8-ee2a-e00fc67979a1"
   },
   "outputs": [
    {
     "name": "stdout",
     "output_type": "stream",
     "text": [
      "[[0.0 0.0 1.0 165349.2 136897.8 471784.1]\n",
      " [1.0 0.0 0.0 162597.7 151377.59 443898.53]\n",
      " [0.0 1.0 0.0 153441.51 101145.55 407934.54]\n",
      " [0.0 0.0 1.0 144372.41 118671.85 383199.62]\n",
      " [0.0 1.0 0.0 142107.34 91391.77 366168.42]\n",
      " [0.0 0.0 1.0 131876.9 99814.71 362861.36]\n",
      " [1.0 0.0 0.0 134615.46 147198.87 127716.82]\n",
      " [0.0 1.0 0.0 130298.13 145530.06 323876.68]\n",
      " [0.0 0.0 1.0 120542.52 148718.95 311613.29]\n",
      " [1.0 0.0 0.0 123334.88 108679.17 304981.62]\n",
      " [0.0 1.0 0.0 101913.08 110594.11 229160.95]\n",
      " [1.0 0.0 0.0 100671.96 91790.61 249744.55]\n",
      " [0.0 1.0 0.0 93863.75 127320.38 249839.44]\n",
      " [1.0 0.0 0.0 91992.39 135495.07 252664.93]\n",
      " [0.0 1.0 0.0 119943.24 156547.42 256512.92]\n",
      " [0.0 0.0 1.0 114523.61 122616.84 261776.23]\n",
      " [1.0 0.0 0.0 78013.11 121597.55 264346.06]\n",
      " [0.0 0.0 1.0 94657.16 145077.58 282574.31]\n",
      " [0.0 1.0 0.0 91749.16 114175.79 294919.57]\n",
      " [0.0 0.0 1.0 86419.7 153514.11 0.0]\n",
      " [1.0 0.0 0.0 76253.86 113867.3 298664.47]\n",
      " [0.0 0.0 1.0 78389.47 153773.43 299737.29]\n",
      " [0.0 1.0 0.0 73994.56 122782.75 303319.26]\n",
      " [0.0 1.0 0.0 67532.53 105751.03 304768.73]\n",
      " [0.0 0.0 1.0 77044.01 99281.34 140574.81]\n",
      " [1.0 0.0 0.0 64664.71 139553.16 137962.62]\n",
      " [0.0 1.0 0.0 75328.87 144135.98 134050.07]\n",
      " [0.0 0.0 1.0 72107.6 127864.55 353183.81]\n",
      " [0.0 1.0 0.0 66051.52 182645.56 118148.2]\n",
      " [0.0 0.0 1.0 65605.48 153032.06 107138.38]\n",
      " [0.0 1.0 0.0 61994.48 115641.28 91131.24]\n",
      " [0.0 0.0 1.0 61136.38 152701.92 88218.23]\n",
      " [1.0 0.0 0.0 63408.86 129219.61 46085.25]\n",
      " [0.0 1.0 0.0 55493.95 103057.49 214634.81]\n",
      " [1.0 0.0 0.0 46426.07 157693.92 210797.67]\n",
      " [0.0 0.0 1.0 46014.02 85047.44 205517.64]\n",
      " [0.0 1.0 0.0 28663.76 127056.21 201126.82]\n",
      " [1.0 0.0 0.0 44069.95 51283.14 197029.42]\n",
      " [0.0 0.0 1.0 20229.59 65947.93 185265.1]\n",
      " [1.0 0.0 0.0 38558.51 82982.09 174999.3]\n",
      " [1.0 0.0 0.0 28754.33 118546.05 172795.67]\n",
      " [0.0 1.0 0.0 27892.92 84710.77 164470.71]\n",
      " [1.0 0.0 0.0 23640.93 96189.63 148001.11]\n",
      " [0.0 0.0 1.0 15505.73 127382.3 35534.17]\n",
      " [1.0 0.0 0.0 22177.74 154806.14 28334.72]\n",
      " [0.0 0.0 1.0 1000.23 124153.04 1903.93]\n",
      " [0.0 1.0 0.0 1315.46 115816.21 297114.46]\n",
      " [1.0 0.0 0.0 0.0 135426.92 0.0]\n",
      " [0.0 0.0 1.0 542.05 51743.15 0.0]\n",
      " [1.0 0.0 0.0 0.0 116983.8 45173.06]]\n"
     ]
    }
   ],
   "source": [
    "print(X)"
   ]
  },
  {
   "cell_type": "markdown",
   "metadata": {
    "id": "WemVnqgeA70k"
   },
   "source": [
    "## 4. Splitting the dataset into the Training set and Test set"
   ]
  },
  {
   "cell_type": "code",
   "execution_count": 8,
   "metadata": {
    "executionInfo": {
     "elapsed": 334,
     "status": "ok",
     "timestamp": 1720605251554,
     "user": {
      "displayName": "Rina Irene Rafalski",
      "userId": "17396273602632308485"
     },
     "user_tz": -180
    },
    "id": "Kb_v_ae-A-20"
   },
   "outputs": [],
   "source": [
    "# train_test_split is used to split the dataset into training and testing sets.\n",
    "# X_train, X_test, y_train, y_test = train_test_split(X, y, test_size = 0.2, random_state = 0):\n",
    "# Splits the dataset so that 20% is used for testing and 80% for training.\n",
    "# random_state = 0 ensures reproducibility.\n",
    "\n",
    "from sklearn.model_selection import train_test_split\n",
    "X_train, X_test, y_train, y_test = train_test_split(X, y, test_size = 0.2, random_state = 0)"
   ]
  },
  {
   "cell_type": "markdown",
   "metadata": {
    "id": "k-McZVsQBINc"
   },
   "source": [
    "## 5. Training the Multiple Linear Regression model on the Training set"
   ]
  },
  {
   "cell_type": "code",
   "execution_count": 9,
   "metadata": {
    "colab": {
     "base_uri": "https://localhost:8080/",
     "height": 74
    },
    "executionInfo": {
     "elapsed": 379,
     "status": "ok",
     "timestamp": 1720605263751,
     "user": {
      "displayName": "Rina Irene Rafalski",
      "userId": "17396273602632308485"
     },
     "user_tz": -180
    },
    "id": "ywPjx0L1BMiD",
    "outputId": "9d350312-5d64-4e33-b30e-ecb55dc79252"
   },
   "outputs": [
    {
     "data": {
      "text/html": [
       "<style>#sk-container-id-1 {color: black;background-color: white;}#sk-container-id-1 pre{padding: 0;}#sk-container-id-1 div.sk-toggleable {background-color: white;}#sk-container-id-1 label.sk-toggleable__label {cursor: pointer;display: block;width: 100%;margin-bottom: 0;padding: 0.3em;box-sizing: border-box;text-align: center;}#sk-container-id-1 label.sk-toggleable__label-arrow:before {content: \"▸\";float: left;margin-right: 0.25em;color: #696969;}#sk-container-id-1 label.sk-toggleable__label-arrow:hover:before {color: black;}#sk-container-id-1 div.sk-estimator:hover label.sk-toggleable__label-arrow:before {color: black;}#sk-container-id-1 div.sk-toggleable__content {max-height: 0;max-width: 0;overflow: hidden;text-align: left;background-color: #f0f8ff;}#sk-container-id-1 div.sk-toggleable__content pre {margin: 0.2em;color: black;border-radius: 0.25em;background-color: #f0f8ff;}#sk-container-id-1 input.sk-toggleable__control:checked~div.sk-toggleable__content {max-height: 200px;max-width: 100%;overflow: auto;}#sk-container-id-1 input.sk-toggleable__control:checked~label.sk-toggleable__label-arrow:before {content: \"▾\";}#sk-container-id-1 div.sk-estimator input.sk-toggleable__control:checked~label.sk-toggleable__label {background-color: #d4ebff;}#sk-container-id-1 div.sk-label input.sk-toggleable__control:checked~label.sk-toggleable__label {background-color: #d4ebff;}#sk-container-id-1 input.sk-hidden--visually {border: 0;clip: rect(1px 1px 1px 1px);clip: rect(1px, 1px, 1px, 1px);height: 1px;margin: -1px;overflow: hidden;padding: 0;position: absolute;width: 1px;}#sk-container-id-1 div.sk-estimator {font-family: monospace;background-color: #f0f8ff;border: 1px dotted black;border-radius: 0.25em;box-sizing: border-box;margin-bottom: 0.5em;}#sk-container-id-1 div.sk-estimator:hover {background-color: #d4ebff;}#sk-container-id-1 div.sk-parallel-item::after {content: \"\";width: 100%;border-bottom: 1px solid gray;flex-grow: 1;}#sk-container-id-1 div.sk-label:hover label.sk-toggleable__label {background-color: #d4ebff;}#sk-container-id-1 div.sk-serial::before {content: \"\";position: absolute;border-left: 1px solid gray;box-sizing: border-box;top: 0;bottom: 0;left: 50%;z-index: 0;}#sk-container-id-1 div.sk-serial {display: flex;flex-direction: column;align-items: center;background-color: white;padding-right: 0.2em;padding-left: 0.2em;position: relative;}#sk-container-id-1 div.sk-item {position: relative;z-index: 1;}#sk-container-id-1 div.sk-parallel {display: flex;align-items: stretch;justify-content: center;background-color: white;position: relative;}#sk-container-id-1 div.sk-item::before, #sk-container-id-1 div.sk-parallel-item::before {content: \"\";position: absolute;border-left: 1px solid gray;box-sizing: border-box;top: 0;bottom: 0;left: 50%;z-index: -1;}#sk-container-id-1 div.sk-parallel-item {display: flex;flex-direction: column;z-index: 1;position: relative;background-color: white;}#sk-container-id-1 div.sk-parallel-item:first-child::after {align-self: flex-end;width: 50%;}#sk-container-id-1 div.sk-parallel-item:last-child::after {align-self: flex-start;width: 50%;}#sk-container-id-1 div.sk-parallel-item:only-child::after {width: 0;}#sk-container-id-1 div.sk-dashed-wrapped {border: 1px dashed gray;margin: 0 0.4em 0.5em 0.4em;box-sizing: border-box;padding-bottom: 0.4em;background-color: white;}#sk-container-id-1 div.sk-label label {font-family: monospace;font-weight: bold;display: inline-block;line-height: 1.2em;}#sk-container-id-1 div.sk-label-container {text-align: center;}#sk-container-id-1 div.sk-container {/* jupyter's `normalize.less` sets `[hidden] { display: none; }` but bootstrap.min.css set `[hidden] { display: none !important; }` so we also need the `!important` here to be able to override the default hidden behavior on the sphinx rendered scikit-learn.org. See: https://github.com/scikit-learn/scikit-learn/issues/21755 */display: inline-block !important;position: relative;}#sk-container-id-1 div.sk-text-repr-fallback {display: none;}</style><div id=\"sk-container-id-1\" class=\"sk-top-container\"><div class=\"sk-text-repr-fallback\"><pre>LinearRegression()</pre><b>In a Jupyter environment, please rerun this cell to show the HTML representation or trust the notebook. <br />On GitHub, the HTML representation is unable to render, please try loading this page with nbviewer.org.</b></div><div class=\"sk-container\" hidden><div class=\"sk-item\"><div class=\"sk-estimator sk-toggleable\"><input class=\"sk-toggleable__control sk-hidden--visually\" id=\"sk-estimator-id-1\" type=\"checkbox\" checked><label for=\"sk-estimator-id-1\" class=\"sk-toggleable__label sk-toggleable__label-arrow\">LinearRegression</label><div class=\"sk-toggleable__content\"><pre>LinearRegression()</pre></div></div></div></div></div>"
      ],
      "text/plain": [
       "LinearRegression()"
      ]
     },
     "execution_count": 9,
     "metadata": {},
     "output_type": "execute_result"
    }
   ],
   "source": [
    "# LinearRegression is used to create a linear regression model.\n",
    "# regressor = LinearRegression(): Creates an instance of the LinearRegression class.\n",
    "# regressor.fit(X_train, y_train): Trains the model using the training data.\n",
    "\n",
    "from sklearn.linear_model import LinearRegression\n",
    "regressor = LinearRegression()\n",
    "regressor.fit(X_train, y_train)"
   ]
  },
  {
   "cell_type": "markdown",
   "metadata": {
    "id": "xNkXL1YQBiBT"
   },
   "source": [
    "## 6. Predicting the Test set results"
   ]
  },
  {
   "cell_type": "code",
   "execution_count": 10,
   "metadata": {
    "colab": {
     "base_uri": "https://localhost:8080/"
    },
    "executionInfo": {
     "elapsed": 338,
     "status": "ok",
     "timestamp": 1720605272593,
     "user": {
      "displayName": "Rina Irene Rafalski",
      "userId": "17396273602632308485"
     },
     "user_tz": -180
    },
    "id": "TQKmwvtdBkyb",
    "outputId": "6780b398-c909-438a-a187-31059a3fddb6"
   },
   "outputs": [
    {
     "name": "stdout",
     "output_type": "stream",
     "text": [
      "[[103015.2  103282.38]\n",
      " [132582.28 144259.4 ]\n",
      " [132447.74 146121.95]\n",
      " [ 71976.1   77798.83]\n",
      " [178537.48 191050.39]\n",
      " [116161.24 105008.31]\n",
      " [ 67851.69  81229.06]\n",
      " [ 98791.73  97483.56]\n",
      " [113969.44 110352.25]\n",
      " [167921.07 166187.94]]\n"
     ]
    }
   ],
   "source": [
    "# y_pred = regressor.predict(X_test): Predicts the target values for the test set.\n",
    "# np.set_printoptions(precision=2): Sets the precision of the NumPy print options to 2 decimal places.\n",
    "# print(np.concatenate((y_pred.reshape(len(y_pred),1), y_test.reshape(len(y_test),1)),1)):\n",
    "# Prints the predicted and actual target values side by side for comparison.\n",
    "\n",
    "y_pred = regressor.predict(X_test)\n",
    "np.set_printoptions(precision=2)\n",
    "print(np.concatenate((y_pred.reshape(len(y_pred),1), y_test.reshape(len(y_test),1)),1))"
   ]
  }
 ],
 "metadata": {
  "colab": {
   "provenance": []
  },
  "kernelspec": {
   "display_name": "Python 3 (ipykernel)",
   "language": "python",
   "name": "python3"
  },
  "language_info": {
   "codemirror_mode": {
    "name": "ipython",
    "version": 3
   },
   "file_extension": ".py",
   "mimetype": "text/x-python",
   "name": "python",
   "nbconvert_exporter": "python",
   "pygments_lexer": "ipython3",
   "version": "3.9.7"
  }
 },
 "nbformat": 4,
 "nbformat_minor": 1
}
